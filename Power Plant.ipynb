{
 "cells": [
  {
   "cell_type": "code",
   "execution_count": 1,
   "id": "cb0e11ed",
   "metadata": {},
   "outputs": [],
   "source": [
    "# importing relevant libraries\n",
    "import numpy as np\n",
    "import pandas as pd\n",
    "import seaborn as sns\n",
    "import sklearn\n",
    "import matplotlib.pyplot as plt\n",
    "from sklearn.model_selection import cross_val_score\n",
    "from sklearn.linear_model import LinearRegression\n",
    "from sklearn.metrics import accuracy_score, confusion_matrix, classification_report, r2_score\n",
    "from sklearn.model_selection import train_test_split\n",
    "import warnings\n",
    "warnings.filterwarnings('ignore')\n",
    "from sklearn.preprocessing import MinMaxScaler"
   ]
  },
  {
   "cell_type": "code",
   "execution_count": 2,
   "id": "f10c7822",
   "metadata": {},
   "outputs": [
    {
     "data": {
      "text/plain": [
       "Index(['country', 'country_long', 'name', 'gppd_idnr', 'capacity_mw',\n",
       "       'latitude', 'longitude', 'primary_fuel', 'other_fuel1', 'other_fuel2',\n",
       "       'other_fuel3', 'commissioning_year', 'owner', 'source', 'url',\n",
       "       'geolocation_source', 'wepp_id', 'year_of_capacity_data',\n",
       "       'generation_gwh_2013', 'generation_gwh_2014', 'generation_gwh_2015',\n",
       "       'generation_gwh_2016', 'generation_gwh_2017', 'generation_gwh_2018',\n",
       "       'generation_gwh_2019', 'generation_data_source',\n",
       "       'estimated_generation_gwh'],\n",
       "      dtype='object')"
      ]
     },
     "execution_count": 2,
     "metadata": {},
     "output_type": "execute_result"
    }
   ],
   "source": [
    "# importing the dataset\n",
    "df = pd.read_csv('power_database_IND.csv')\n",
    "df.columns"
   ]
  },
  {
   "cell_type": "code",
   "execution_count": 3,
   "id": "e7858146",
   "metadata": {},
   "outputs": [
    {
     "data": {
      "text/html": [
       "<div>\n",
       "<style scoped>\n",
       "    .dataframe tbody tr th:only-of-type {\n",
       "        vertical-align: middle;\n",
       "    }\n",
       "\n",
       "    .dataframe tbody tr th {\n",
       "        vertical-align: top;\n",
       "    }\n",
       "\n",
       "    .dataframe thead th {\n",
       "        text-align: right;\n",
       "    }\n",
       "</style>\n",
       "<table border=\"1\" class=\"dataframe\">\n",
       "  <thead>\n",
       "    <tr style=\"text-align: right;\">\n",
       "      <th></th>\n",
       "      <th>country</th>\n",
       "      <th>country_long</th>\n",
       "      <th>name</th>\n",
       "      <th>gppd_idnr</th>\n",
       "      <th>capacity_mw</th>\n",
       "      <th>latitude</th>\n",
       "      <th>longitude</th>\n",
       "      <th>primary_fuel</th>\n",
       "      <th>other_fuel1</th>\n",
       "      <th>other_fuel2</th>\n",
       "      <th>...</th>\n",
       "      <th>year_of_capacity_data</th>\n",
       "      <th>generation_gwh_2013</th>\n",
       "      <th>generation_gwh_2014</th>\n",
       "      <th>generation_gwh_2015</th>\n",
       "      <th>generation_gwh_2016</th>\n",
       "      <th>generation_gwh_2017</th>\n",
       "      <th>generation_gwh_2018</th>\n",
       "      <th>generation_gwh_2019</th>\n",
       "      <th>generation_data_source</th>\n",
       "      <th>estimated_generation_gwh</th>\n",
       "    </tr>\n",
       "  </thead>\n",
       "  <tbody>\n",
       "    <tr>\n",
       "      <th>0</th>\n",
       "      <td>IND</td>\n",
       "      <td>India</td>\n",
       "      <td>ACME Solar Tower</td>\n",
       "      <td>WRI1020239</td>\n",
       "      <td>2.5</td>\n",
       "      <td>28.1839</td>\n",
       "      <td>73.2407</td>\n",
       "      <td>Solar</td>\n",
       "      <td>NaN</td>\n",
       "      <td>NaN</td>\n",
       "      <td>...</td>\n",
       "      <td>NaN</td>\n",
       "      <td>NaN</td>\n",
       "      <td>NaN</td>\n",
       "      <td>NaN</td>\n",
       "      <td>NaN</td>\n",
       "      <td>NaN</td>\n",
       "      <td>NaN</td>\n",
       "      <td>NaN</td>\n",
       "      <td>NaN</td>\n",
       "      <td>NaN</td>\n",
       "    </tr>\n",
       "    <tr>\n",
       "      <th>1</th>\n",
       "      <td>IND</td>\n",
       "      <td>India</td>\n",
       "      <td>ADITYA CEMENT WORKS</td>\n",
       "      <td>WRI1019881</td>\n",
       "      <td>98.0</td>\n",
       "      <td>24.7663</td>\n",
       "      <td>74.6090</td>\n",
       "      <td>Coal</td>\n",
       "      <td>NaN</td>\n",
       "      <td>NaN</td>\n",
       "      <td>...</td>\n",
       "      <td>NaN</td>\n",
       "      <td>NaN</td>\n",
       "      <td>NaN</td>\n",
       "      <td>NaN</td>\n",
       "      <td>NaN</td>\n",
       "      <td>NaN</td>\n",
       "      <td>NaN</td>\n",
       "      <td>NaN</td>\n",
       "      <td>NaN</td>\n",
       "      <td>NaN</td>\n",
       "    </tr>\n",
       "    <tr>\n",
       "      <th>2</th>\n",
       "      <td>IND</td>\n",
       "      <td>India</td>\n",
       "      <td>AES Saurashtra Windfarms</td>\n",
       "      <td>WRI1026669</td>\n",
       "      <td>39.2</td>\n",
       "      <td>21.9038</td>\n",
       "      <td>69.3732</td>\n",
       "      <td>Wind</td>\n",
       "      <td>NaN</td>\n",
       "      <td>NaN</td>\n",
       "      <td>...</td>\n",
       "      <td>NaN</td>\n",
       "      <td>NaN</td>\n",
       "      <td>NaN</td>\n",
       "      <td>NaN</td>\n",
       "      <td>NaN</td>\n",
       "      <td>NaN</td>\n",
       "      <td>NaN</td>\n",
       "      <td>NaN</td>\n",
       "      <td>NaN</td>\n",
       "      <td>NaN</td>\n",
       "    </tr>\n",
       "    <tr>\n",
       "      <th>3</th>\n",
       "      <td>IND</td>\n",
       "      <td>India</td>\n",
       "      <td>AGARTALA GT</td>\n",
       "      <td>IND0000001</td>\n",
       "      <td>135.0</td>\n",
       "      <td>23.8712</td>\n",
       "      <td>91.3602</td>\n",
       "      <td>Gas</td>\n",
       "      <td>NaN</td>\n",
       "      <td>NaN</td>\n",
       "      <td>...</td>\n",
       "      <td>2019.0</td>\n",
       "      <td>NaN</td>\n",
       "      <td>617.789264</td>\n",
       "      <td>843.7470</td>\n",
       "      <td>886.004428</td>\n",
       "      <td>663.774500</td>\n",
       "      <td>626.239128</td>\n",
       "      <td>NaN</td>\n",
       "      <td>Central Electricity Authority</td>\n",
       "      <td>NaN</td>\n",
       "    </tr>\n",
       "    <tr>\n",
       "      <th>4</th>\n",
       "      <td>IND</td>\n",
       "      <td>India</td>\n",
       "      <td>AKALTARA TPP</td>\n",
       "      <td>IND0000002</td>\n",
       "      <td>1800.0</td>\n",
       "      <td>21.9603</td>\n",
       "      <td>82.4091</td>\n",
       "      <td>Coal</td>\n",
       "      <td>Oil</td>\n",
       "      <td>NaN</td>\n",
       "      <td>...</td>\n",
       "      <td>2019.0</td>\n",
       "      <td>NaN</td>\n",
       "      <td>3035.550000</td>\n",
       "      <td>5916.3700</td>\n",
       "      <td>6243.000000</td>\n",
       "      <td>5385.579736</td>\n",
       "      <td>7279.000000</td>\n",
       "      <td>NaN</td>\n",
       "      <td>Central Electricity Authority</td>\n",
       "      <td>NaN</td>\n",
       "    </tr>\n",
       "    <tr>\n",
       "      <th>5</th>\n",
       "      <td>IND</td>\n",
       "      <td>India</td>\n",
       "      <td>AKRIMOTA LIG</td>\n",
       "      <td>IND0000003</td>\n",
       "      <td>250.0</td>\n",
       "      <td>23.7689</td>\n",
       "      <td>68.6447</td>\n",
       "      <td>Coal</td>\n",
       "      <td>Oil</td>\n",
       "      <td>NaN</td>\n",
       "      <td>...</td>\n",
       "      <td>2019.0</td>\n",
       "      <td>NaN</td>\n",
       "      <td>1153.421000</td>\n",
       "      <td>1208.8520</td>\n",
       "      <td>1175.765000</td>\n",
       "      <td>1147.913000</td>\n",
       "      <td>976.655000</td>\n",
       "      <td>NaN</td>\n",
       "      <td>Central Electricity Authority</td>\n",
       "      <td>NaN</td>\n",
       "    </tr>\n",
       "    <tr>\n",
       "      <th>6</th>\n",
       "      <td>IND</td>\n",
       "      <td>India</td>\n",
       "      <td>ALIYAR</td>\n",
       "      <td>IND0000004</td>\n",
       "      <td>60.0</td>\n",
       "      <td>10.4547</td>\n",
       "      <td>77.0078</td>\n",
       "      <td>Hydro</td>\n",
       "      <td>NaN</td>\n",
       "      <td>NaN</td>\n",
       "      <td>...</td>\n",
       "      <td>2019.0</td>\n",
       "      <td>NaN</td>\n",
       "      <td>157.558250</td>\n",
       "      <td>152.1952</td>\n",
       "      <td>61.421350</td>\n",
       "      <td>89.629600</td>\n",
       "      <td>48.327150</td>\n",
       "      <td>NaN</td>\n",
       "      <td>Central Electricity Authority</td>\n",
       "      <td>NaN</td>\n",
       "    </tr>\n",
       "    <tr>\n",
       "      <th>7</th>\n",
       "      <td>IND</td>\n",
       "      <td>India</td>\n",
       "      <td>ALLAIN DUHANGAN</td>\n",
       "      <td>IND0000005</td>\n",
       "      <td>192.0</td>\n",
       "      <td>32.2258</td>\n",
       "      <td>77.2070</td>\n",
       "      <td>Hydro</td>\n",
       "      <td>NaN</td>\n",
       "      <td>NaN</td>\n",
       "      <td>...</td>\n",
       "      <td>2019.0</td>\n",
       "      <td>NaN</td>\n",
       "      <td>674.391100</td>\n",
       "      <td>721.3352</td>\n",
       "      <td>675.724400</td>\n",
       "      <td>679.594950</td>\n",
       "      <td>579.318850</td>\n",
       "      <td>NaN</td>\n",
       "      <td>Central Electricity Authority</td>\n",
       "      <td>NaN</td>\n",
       "    </tr>\n",
       "    <tr>\n",
       "      <th>8</th>\n",
       "      <td>IND</td>\n",
       "      <td>India</td>\n",
       "      <td>ALMATTI DAM</td>\n",
       "      <td>IND0000006</td>\n",
       "      <td>290.0</td>\n",
       "      <td>16.3300</td>\n",
       "      <td>75.8863</td>\n",
       "      <td>Hydro</td>\n",
       "      <td>NaN</td>\n",
       "      <td>NaN</td>\n",
       "      <td>...</td>\n",
       "      <td>2019.0</td>\n",
       "      <td>NaN</td>\n",
       "      <td>480.594950</td>\n",
       "      <td>144.4342</td>\n",
       "      <td>402.029750</td>\n",
       "      <td>439.372100</td>\n",
       "      <td>406.377900</td>\n",
       "      <td>NaN</td>\n",
       "      <td>Central Electricity Authority</td>\n",
       "      <td>NaN</td>\n",
       "    </tr>\n",
       "    <tr>\n",
       "      <th>9</th>\n",
       "      <td>IND</td>\n",
       "      <td>India</td>\n",
       "      <td>AMAR KANTAK</td>\n",
       "      <td>IND0000007</td>\n",
       "      <td>210.0</td>\n",
       "      <td>23.1642</td>\n",
       "      <td>81.6373</td>\n",
       "      <td>Coal</td>\n",
       "      <td>Oil</td>\n",
       "      <td>NaN</td>\n",
       "      <td>...</td>\n",
       "      <td>2019.0</td>\n",
       "      <td>NaN</td>\n",
       "      <td>1887.904000</td>\n",
       "      <td>1643.0460</td>\n",
       "      <td>1338.093000</td>\n",
       "      <td>1563.457000</td>\n",
       "      <td>1487.880000</td>\n",
       "      <td>NaN</td>\n",
       "      <td>Central Electricity Authority</td>\n",
       "      <td>NaN</td>\n",
       "    </tr>\n",
       "  </tbody>\n",
       "</table>\n",
       "<p>10 rows × 27 columns</p>\n",
       "</div>"
      ],
      "text/plain": [
       "  country country_long                      name   gppd_idnr  capacity_mw  \\\n",
       "0     IND        India          ACME Solar Tower  WRI1020239          2.5   \n",
       "1     IND        India       ADITYA CEMENT WORKS  WRI1019881         98.0   \n",
       "2     IND        India  AES Saurashtra Windfarms  WRI1026669         39.2   \n",
       "3     IND        India               AGARTALA GT  IND0000001        135.0   \n",
       "4     IND        India              AKALTARA TPP  IND0000002       1800.0   \n",
       "5     IND        India              AKRIMOTA LIG  IND0000003        250.0   \n",
       "6     IND        India                    ALIYAR  IND0000004         60.0   \n",
       "7     IND        India           ALLAIN DUHANGAN  IND0000005        192.0   \n",
       "8     IND        India               ALMATTI DAM  IND0000006        290.0   \n",
       "9     IND        India               AMAR KANTAK  IND0000007        210.0   \n",
       "\n",
       "   latitude  longitude primary_fuel other_fuel1 other_fuel2  ...  \\\n",
       "0   28.1839    73.2407        Solar         NaN         NaN  ...   \n",
       "1   24.7663    74.6090         Coal         NaN         NaN  ...   \n",
       "2   21.9038    69.3732         Wind         NaN         NaN  ...   \n",
       "3   23.8712    91.3602          Gas         NaN         NaN  ...   \n",
       "4   21.9603    82.4091         Coal         Oil         NaN  ...   \n",
       "5   23.7689    68.6447         Coal         Oil         NaN  ...   \n",
       "6   10.4547    77.0078        Hydro         NaN         NaN  ...   \n",
       "7   32.2258    77.2070        Hydro         NaN         NaN  ...   \n",
       "8   16.3300    75.8863        Hydro         NaN         NaN  ...   \n",
       "9   23.1642    81.6373         Coal         Oil         NaN  ...   \n",
       "\n",
       "   year_of_capacity_data  generation_gwh_2013 generation_gwh_2014  \\\n",
       "0                    NaN                  NaN                 NaN   \n",
       "1                    NaN                  NaN                 NaN   \n",
       "2                    NaN                  NaN                 NaN   \n",
       "3                 2019.0                  NaN          617.789264   \n",
       "4                 2019.0                  NaN         3035.550000   \n",
       "5                 2019.0                  NaN         1153.421000   \n",
       "6                 2019.0                  NaN          157.558250   \n",
       "7                 2019.0                  NaN          674.391100   \n",
       "8                 2019.0                  NaN          480.594950   \n",
       "9                 2019.0                  NaN         1887.904000   \n",
       "\n",
       "  generation_gwh_2015 generation_gwh_2016 generation_gwh_2017  \\\n",
       "0                 NaN                 NaN                 NaN   \n",
       "1                 NaN                 NaN                 NaN   \n",
       "2                 NaN                 NaN                 NaN   \n",
       "3            843.7470          886.004428          663.774500   \n",
       "4           5916.3700         6243.000000         5385.579736   \n",
       "5           1208.8520         1175.765000         1147.913000   \n",
       "6            152.1952           61.421350           89.629600   \n",
       "7            721.3352          675.724400          679.594950   \n",
       "8            144.4342          402.029750          439.372100   \n",
       "9           1643.0460         1338.093000         1563.457000   \n",
       "\n",
       "   generation_gwh_2018  generation_gwh_2019         generation_data_source  \\\n",
       "0                  NaN                  NaN                            NaN   \n",
       "1                  NaN                  NaN                            NaN   \n",
       "2                  NaN                  NaN                            NaN   \n",
       "3           626.239128                  NaN  Central Electricity Authority   \n",
       "4          7279.000000                  NaN  Central Electricity Authority   \n",
       "5           976.655000                  NaN  Central Electricity Authority   \n",
       "6            48.327150                  NaN  Central Electricity Authority   \n",
       "7           579.318850                  NaN  Central Electricity Authority   \n",
       "8           406.377900                  NaN  Central Electricity Authority   \n",
       "9          1487.880000                  NaN  Central Electricity Authority   \n",
       "\n",
       "   estimated_generation_gwh  \n",
       "0                       NaN  \n",
       "1                       NaN  \n",
       "2                       NaN  \n",
       "3                       NaN  \n",
       "4                       NaN  \n",
       "5                       NaN  \n",
       "6                       NaN  \n",
       "7                       NaN  \n",
       "8                       NaN  \n",
       "9                       NaN  \n",
       "\n",
       "[10 rows x 27 columns]"
      ]
     },
     "execution_count": 3,
     "metadata": {},
     "output_type": "execute_result"
    }
   ],
   "source": [
    "df.head(10)"
   ]
  },
  {
   "cell_type": "code",
   "execution_count": 4,
   "id": "cfc2b833",
   "metadata": {},
   "outputs": [
    {
     "data": {
      "text/plain": [
       "country                       0\n",
       "country_long                  0\n",
       "name                          0\n",
       "gppd_idnr                     0\n",
       "capacity_mw                   0\n",
       "latitude                     46\n",
       "longitude                    46\n",
       "primary_fuel                  0\n",
       "other_fuel1                 709\n",
       "other_fuel2                 906\n",
       "other_fuel3                 907\n",
       "commissioning_year          380\n",
       "owner                       565\n",
       "source                        0\n",
       "url                           0\n",
       "geolocation_source           19\n",
       "wepp_id                     907\n",
       "year_of_capacity_data       388\n",
       "generation_gwh_2013         907\n",
       "generation_gwh_2014         509\n",
       "generation_gwh_2015         485\n",
       "generation_gwh_2016         473\n",
       "generation_gwh_2017         467\n",
       "generation_gwh_2018         459\n",
       "generation_gwh_2019         907\n",
       "generation_data_source      458\n",
       "estimated_generation_gwh    907\n",
       "dtype: int64"
      ]
     },
     "execution_count": 4,
     "metadata": {},
     "output_type": "execute_result"
    }
   ],
   "source": [
    "#Checking for null values\n",
    "df.isnull().sum()"
   ]
  },
  {
   "cell_type": "code",
   "execution_count": 5,
   "id": "33d133f5",
   "metadata": {},
   "outputs": [
    {
     "data": {
      "text/plain": [
       "country                      object\n",
       "country_long                 object\n",
       "name                         object\n",
       "gppd_idnr                    object\n",
       "capacity_mw                 float64\n",
       "latitude                    float64\n",
       "longitude                   float64\n",
       "primary_fuel                 object\n",
       "other_fuel1                  object\n",
       "other_fuel2                  object\n",
       "other_fuel3                 float64\n",
       "commissioning_year          float64\n",
       "owner                        object\n",
       "source                       object\n",
       "url                          object\n",
       "geolocation_source           object\n",
       "wepp_id                     float64\n",
       "year_of_capacity_data       float64\n",
       "generation_gwh_2013         float64\n",
       "generation_gwh_2014         float64\n",
       "generation_gwh_2015         float64\n",
       "generation_gwh_2016         float64\n",
       "generation_gwh_2017         float64\n",
       "generation_gwh_2018         float64\n",
       "generation_gwh_2019         float64\n",
       "generation_data_source       object\n",
       "estimated_generation_gwh    float64\n",
       "dtype: object"
      ]
     },
     "execution_count": 5,
     "metadata": {},
     "output_type": "execute_result"
    }
   ],
   "source": [
    "# checking the data types\n",
    "df.dtypes"
   ]
  },
  {
   "cell_type": "code",
   "execution_count": 6,
   "id": "ec23dd36",
   "metadata": {},
   "outputs": [
    {
     "name": "stdout",
     "output_type": "stream",
     "text": [
      "<class 'pandas.core.frame.DataFrame'>\n",
      "RangeIndex: 907 entries, 0 to 906\n",
      "Data columns (total 27 columns):\n",
      " #   Column                    Non-Null Count  Dtype  \n",
      "---  ------                    --------------  -----  \n",
      " 0   country                   907 non-null    object \n",
      " 1   country_long              907 non-null    object \n",
      " 2   name                      907 non-null    object \n",
      " 3   gppd_idnr                 907 non-null    object \n",
      " 4   capacity_mw               907 non-null    float64\n",
      " 5   latitude                  861 non-null    float64\n",
      " 6   longitude                 861 non-null    float64\n",
      " 7   primary_fuel              907 non-null    object \n",
      " 8   other_fuel1               198 non-null    object \n",
      " 9   other_fuel2               1 non-null      object \n",
      " 10  other_fuel3               0 non-null      float64\n",
      " 11  commissioning_year        527 non-null    float64\n",
      " 12  owner                     342 non-null    object \n",
      " 13  source                    907 non-null    object \n",
      " 14  url                       907 non-null    object \n",
      " 15  geolocation_source        888 non-null    object \n",
      " 16  wepp_id                   0 non-null      float64\n",
      " 17  year_of_capacity_data     519 non-null    float64\n",
      " 18  generation_gwh_2013       0 non-null      float64\n",
      " 19  generation_gwh_2014       398 non-null    float64\n",
      " 20  generation_gwh_2015       422 non-null    float64\n",
      " 21  generation_gwh_2016       434 non-null    float64\n",
      " 22  generation_gwh_2017       440 non-null    float64\n",
      " 23  generation_gwh_2018       448 non-null    float64\n",
      " 24  generation_gwh_2019       0 non-null      float64\n",
      " 25  generation_data_source    449 non-null    object \n",
      " 26  estimated_generation_gwh  0 non-null      float64\n",
      "dtypes: float64(15), object(12)\n",
      "memory usage: 191.4+ KB\n"
     ]
    }
   ],
   "source": [
    "# General information about the dataset\n",
    "df.info()"
   ]
  },
  {
   "cell_type": "code",
   "execution_count": 7,
   "id": "28c055de",
   "metadata": {},
   "outputs": [
    {
     "data": {
      "text/html": [
       "<div>\n",
       "<style scoped>\n",
       "    .dataframe tbody tr th:only-of-type {\n",
       "        vertical-align: middle;\n",
       "    }\n",
       "\n",
       "    .dataframe tbody tr th {\n",
       "        vertical-align: top;\n",
       "    }\n",
       "\n",
       "    .dataframe thead th {\n",
       "        text-align: right;\n",
       "    }\n",
       "</style>\n",
       "<table border=\"1\" class=\"dataframe\">\n",
       "  <thead>\n",
       "    <tr style=\"text-align: right;\">\n",
       "      <th></th>\n",
       "      <th>capacity_mw</th>\n",
       "      <th>latitude</th>\n",
       "      <th>longitude</th>\n",
       "      <th>other_fuel3</th>\n",
       "      <th>commissioning_year</th>\n",
       "      <th>wepp_id</th>\n",
       "      <th>year_of_capacity_data</th>\n",
       "      <th>generation_gwh_2013</th>\n",
       "      <th>generation_gwh_2014</th>\n",
       "      <th>generation_gwh_2015</th>\n",
       "      <th>generation_gwh_2016</th>\n",
       "      <th>generation_gwh_2017</th>\n",
       "      <th>generation_gwh_2018</th>\n",
       "      <th>generation_gwh_2019</th>\n",
       "      <th>estimated_generation_gwh</th>\n",
       "    </tr>\n",
       "  </thead>\n",
       "  <tbody>\n",
       "    <tr>\n",
       "      <th>count</th>\n",
       "      <td>907.000000</td>\n",
       "      <td>861.000000</td>\n",
       "      <td>861.000000</td>\n",
       "      <td>0.0</td>\n",
       "      <td>527.000000</td>\n",
       "      <td>0.0</td>\n",
       "      <td>519.0</td>\n",
       "      <td>0.0</td>\n",
       "      <td>398.000000</td>\n",
       "      <td>422.000000</td>\n",
       "      <td>434.000000</td>\n",
       "      <td>440.000000</td>\n",
       "      <td>448.000000</td>\n",
       "      <td>0.0</td>\n",
       "      <td>0.0</td>\n",
       "    </tr>\n",
       "    <tr>\n",
       "      <th>mean</th>\n",
       "      <td>326.223755</td>\n",
       "      <td>21.197918</td>\n",
       "      <td>77.464907</td>\n",
       "      <td>NaN</td>\n",
       "      <td>1997.091082</td>\n",
       "      <td>NaN</td>\n",
       "      <td>2019.0</td>\n",
       "      <td>NaN</td>\n",
       "      <td>2431.823590</td>\n",
       "      <td>2428.226946</td>\n",
       "      <td>2467.936859</td>\n",
       "      <td>2547.759305</td>\n",
       "      <td>2600.804099</td>\n",
       "      <td>NaN</td>\n",
       "      <td>NaN</td>\n",
       "    </tr>\n",
       "    <tr>\n",
       "      <th>std</th>\n",
       "      <td>590.085456</td>\n",
       "      <td>6.239612</td>\n",
       "      <td>4.939316</td>\n",
       "      <td>NaN</td>\n",
       "      <td>17.082868</td>\n",
       "      <td>NaN</td>\n",
       "      <td>0.0</td>\n",
       "      <td>NaN</td>\n",
       "      <td>4026.440035</td>\n",
       "      <td>4194.596959</td>\n",
       "      <td>4162.884308</td>\n",
       "      <td>4196.991169</td>\n",
       "      <td>4314.880456</td>\n",
       "      <td>NaN</td>\n",
       "      <td>NaN</td>\n",
       "    </tr>\n",
       "    <tr>\n",
       "      <th>min</th>\n",
       "      <td>0.000000</td>\n",
       "      <td>8.168900</td>\n",
       "      <td>68.644700</td>\n",
       "      <td>NaN</td>\n",
       "      <td>1927.000000</td>\n",
       "      <td>NaN</td>\n",
       "      <td>2019.0</td>\n",
       "      <td>NaN</td>\n",
       "      <td>0.000000</td>\n",
       "      <td>0.000000</td>\n",
       "      <td>0.000000</td>\n",
       "      <td>0.000000</td>\n",
       "      <td>0.000000</td>\n",
       "      <td>NaN</td>\n",
       "      <td>NaN</td>\n",
       "    </tr>\n",
       "    <tr>\n",
       "      <th>25%</th>\n",
       "      <td>16.725000</td>\n",
       "      <td>16.773900</td>\n",
       "      <td>74.256200</td>\n",
       "      <td>NaN</td>\n",
       "      <td>1988.000000</td>\n",
       "      <td>NaN</td>\n",
       "      <td>2019.0</td>\n",
       "      <td>NaN</td>\n",
       "      <td>223.557672</td>\n",
       "      <td>176.381063</td>\n",
       "      <td>188.285252</td>\n",
       "      <td>177.874930</td>\n",
       "      <td>193.378250</td>\n",
       "      <td>NaN</td>\n",
       "      <td>NaN</td>\n",
       "    </tr>\n",
       "    <tr>\n",
       "      <th>50%</th>\n",
       "      <td>59.200000</td>\n",
       "      <td>21.780000</td>\n",
       "      <td>76.719500</td>\n",
       "      <td>NaN</td>\n",
       "      <td>2001.000000</td>\n",
       "      <td>NaN</td>\n",
       "      <td>2019.0</td>\n",
       "      <td>NaN</td>\n",
       "      <td>801.123775</td>\n",
       "      <td>711.181225</td>\n",
       "      <td>737.205450</td>\n",
       "      <td>817.977250</td>\n",
       "      <td>751.644375</td>\n",
       "      <td>NaN</td>\n",
       "      <td>NaN</td>\n",
       "    </tr>\n",
       "    <tr>\n",
       "      <th>75%</th>\n",
       "      <td>385.250000</td>\n",
       "      <td>25.512400</td>\n",
       "      <td>79.440800</td>\n",
       "      <td>NaN</td>\n",
       "      <td>2012.000000</td>\n",
       "      <td>NaN</td>\n",
       "      <td>2019.0</td>\n",
       "      <td>NaN</td>\n",
       "      <td>3035.306250</td>\n",
       "      <td>3084.121250</td>\n",
       "      <td>3282.861313</td>\n",
       "      <td>3275.690475</td>\n",
       "      <td>3143.535900</td>\n",
       "      <td>NaN</td>\n",
       "      <td>NaN</td>\n",
       "    </tr>\n",
       "    <tr>\n",
       "      <th>max</th>\n",
       "      <td>4760.000000</td>\n",
       "      <td>34.649000</td>\n",
       "      <td>95.408000</td>\n",
       "      <td>NaN</td>\n",
       "      <td>2018.000000</td>\n",
       "      <td>NaN</td>\n",
       "      <td>2019.0</td>\n",
       "      <td>NaN</td>\n",
       "      <td>28127.000000</td>\n",
       "      <td>30539.000000</td>\n",
       "      <td>30015.000000</td>\n",
       "      <td>35116.000000</td>\n",
       "      <td>35136.000000</td>\n",
       "      <td>NaN</td>\n",
       "      <td>NaN</td>\n",
       "    </tr>\n",
       "  </tbody>\n",
       "</table>\n",
       "</div>"
      ],
      "text/plain": [
       "       capacity_mw    latitude   longitude  other_fuel3  commissioning_year  \\\n",
       "count   907.000000  861.000000  861.000000          0.0          527.000000   \n",
       "mean    326.223755   21.197918   77.464907          NaN         1997.091082   \n",
       "std     590.085456    6.239612    4.939316          NaN           17.082868   \n",
       "min       0.000000    8.168900   68.644700          NaN         1927.000000   \n",
       "25%      16.725000   16.773900   74.256200          NaN         1988.000000   \n",
       "50%      59.200000   21.780000   76.719500          NaN         2001.000000   \n",
       "75%     385.250000   25.512400   79.440800          NaN         2012.000000   \n",
       "max    4760.000000   34.649000   95.408000          NaN         2018.000000   \n",
       "\n",
       "       wepp_id  year_of_capacity_data  generation_gwh_2013  \\\n",
       "count      0.0                  519.0                  0.0   \n",
       "mean       NaN                 2019.0                  NaN   \n",
       "std        NaN                    0.0                  NaN   \n",
       "min        NaN                 2019.0                  NaN   \n",
       "25%        NaN                 2019.0                  NaN   \n",
       "50%        NaN                 2019.0                  NaN   \n",
       "75%        NaN                 2019.0                  NaN   \n",
       "max        NaN                 2019.0                  NaN   \n",
       "\n",
       "       generation_gwh_2014  generation_gwh_2015  generation_gwh_2016  \\\n",
       "count           398.000000           422.000000           434.000000   \n",
       "mean           2431.823590          2428.226946          2467.936859   \n",
       "std            4026.440035          4194.596959          4162.884308   \n",
       "min               0.000000             0.000000             0.000000   \n",
       "25%             223.557672           176.381063           188.285252   \n",
       "50%             801.123775           711.181225           737.205450   \n",
       "75%            3035.306250          3084.121250          3282.861313   \n",
       "max           28127.000000         30539.000000         30015.000000   \n",
       "\n",
       "       generation_gwh_2017  generation_gwh_2018  generation_gwh_2019  \\\n",
       "count           440.000000           448.000000                  0.0   \n",
       "mean           2547.759305          2600.804099                  NaN   \n",
       "std            4196.991169          4314.880456                  NaN   \n",
       "min               0.000000             0.000000                  NaN   \n",
       "25%             177.874930           193.378250                  NaN   \n",
       "50%             817.977250           751.644375                  NaN   \n",
       "75%            3275.690475          3143.535900                  NaN   \n",
       "max           35116.000000         35136.000000                  NaN   \n",
       "\n",
       "       estimated_generation_gwh  \n",
       "count                       0.0  \n",
       "mean                        NaN  \n",
       "std                         NaN  \n",
       "min                         NaN  \n",
       "25%                         NaN  \n",
       "50%                         NaN  \n",
       "75%                         NaN  \n",
       "max                         NaN  "
      ]
     },
     "execution_count": 7,
     "metadata": {},
     "output_type": "execute_result"
    }
   ],
   "source": [
    "#Statistical description of the numerical features\n",
    "df.describe()"
   ]
  },
  {
   "cell_type": "code",
   "execution_count": 8,
   "id": "809be7fd",
   "metadata": {},
   "outputs": [
    {
     "data": {
      "text/html": [
       "<div>\n",
       "<style scoped>\n",
       "    .dataframe tbody tr th:only-of-type {\n",
       "        vertical-align: middle;\n",
       "    }\n",
       "\n",
       "    .dataframe tbody tr th {\n",
       "        vertical-align: top;\n",
       "    }\n",
       "\n",
       "    .dataframe thead th {\n",
       "        text-align: right;\n",
       "    }\n",
       "</style>\n",
       "<table border=\"1\" class=\"dataframe\">\n",
       "  <thead>\n",
       "    <tr style=\"text-align: right;\">\n",
       "      <th></th>\n",
       "      <th>count</th>\n",
       "      <th>unique</th>\n",
       "      <th>top</th>\n",
       "      <th>freq</th>\n",
       "    </tr>\n",
       "  </thead>\n",
       "  <tbody>\n",
       "    <tr>\n",
       "      <th>country</th>\n",
       "      <td>907</td>\n",
       "      <td>1</td>\n",
       "      <td>IND</td>\n",
       "      <td>907</td>\n",
       "    </tr>\n",
       "    <tr>\n",
       "      <th>country_long</th>\n",
       "      <td>907</td>\n",
       "      <td>1</td>\n",
       "      <td>India</td>\n",
       "      <td>907</td>\n",
       "    </tr>\n",
       "    <tr>\n",
       "      <th>name</th>\n",
       "      <td>907</td>\n",
       "      <td>907</td>\n",
       "      <td>KOVILKALAPPAL</td>\n",
       "      <td>1</td>\n",
       "    </tr>\n",
       "    <tr>\n",
       "      <th>gppd_idnr</th>\n",
       "      <td>907</td>\n",
       "      <td>907</td>\n",
       "      <td>IND0000087</td>\n",
       "      <td>1</td>\n",
       "    </tr>\n",
       "    <tr>\n",
       "      <th>primary_fuel</th>\n",
       "      <td>907</td>\n",
       "      <td>8</td>\n",
       "      <td>Coal</td>\n",
       "      <td>258</td>\n",
       "    </tr>\n",
       "    <tr>\n",
       "      <th>other_fuel1</th>\n",
       "      <td>198</td>\n",
       "      <td>3</td>\n",
       "      <td>Oil</td>\n",
       "      <td>195</td>\n",
       "    </tr>\n",
       "    <tr>\n",
       "      <th>other_fuel2</th>\n",
       "      <td>1</td>\n",
       "      <td>1</td>\n",
       "      <td>Oil</td>\n",
       "      <td>1</td>\n",
       "    </tr>\n",
       "    <tr>\n",
       "      <th>owner</th>\n",
       "      <td>342</td>\n",
       "      <td>280</td>\n",
       "      <td>Jk Cement ltd</td>\n",
       "      <td>4</td>\n",
       "    </tr>\n",
       "    <tr>\n",
       "      <th>source</th>\n",
       "      <td>907</td>\n",
       "      <td>191</td>\n",
       "      <td>Central Electricity Authority</td>\n",
       "      <td>519</td>\n",
       "    </tr>\n",
       "    <tr>\n",
       "      <th>url</th>\n",
       "      <td>907</td>\n",
       "      <td>304</td>\n",
       "      <td>http://www.cea.nic.in/</td>\n",
       "      <td>519</td>\n",
       "    </tr>\n",
       "    <tr>\n",
       "      <th>geolocation_source</th>\n",
       "      <td>888</td>\n",
       "      <td>3</td>\n",
       "      <td>WRI</td>\n",
       "      <td>765</td>\n",
       "    </tr>\n",
       "    <tr>\n",
       "      <th>generation_data_source</th>\n",
       "      <td>449</td>\n",
       "      <td>1</td>\n",
       "      <td>Central Electricity Authority</td>\n",
       "      <td>449</td>\n",
       "    </tr>\n",
       "  </tbody>\n",
       "</table>\n",
       "</div>"
      ],
      "text/plain": [
       "                       count unique                            top freq\n",
       "country                  907      1                            IND  907\n",
       "country_long             907      1                          India  907\n",
       "name                     907    907                  KOVILKALAPPAL    1\n",
       "gppd_idnr                907    907                     IND0000087    1\n",
       "primary_fuel             907      8                           Coal  258\n",
       "other_fuel1              198      3                            Oil  195\n",
       "other_fuel2                1      1                            Oil    1\n",
       "owner                    342    280                  Jk Cement ltd    4\n",
       "source                   907    191  Central Electricity Authority  519\n",
       "url                      907    304         http://www.cea.nic.in/  519\n",
       "geolocation_source       888      3                            WRI  765\n",
       "generation_data_source   449      1  Central Electricity Authority  449"
      ]
     },
     "execution_count": 8,
     "metadata": {},
     "output_type": "execute_result"
    }
   ],
   "source": [
    "# lets look at the description of the categorical features\n",
    "df.describe(include=object).T"
   ]
  },
  {
   "cell_type": "code",
   "execution_count": 9,
   "id": "ba2c2499",
   "metadata": {},
   "outputs": [
    {
     "data": {
      "text/plain": [
       "(907, 27)"
      ]
     },
     "execution_count": 9,
     "metadata": {},
     "output_type": "execute_result"
    }
   ],
   "source": [
    "#Checking the shape of the data\n",
    "df.shape"
   ]
  },
  {
   "cell_type": "markdown",
   "id": "9b1a20fd",
   "metadata": {},
   "source": [
    "After checking for null values and the shape of the dataframe we discover a lot of columns with over 50% of null values and some columns which are completely null, we will look at them closely during our analyses"
   ]
  },
  {
   "cell_type": "code",
   "execution_count": 10,
   "id": "8c4e4e2c",
   "metadata": {},
   "outputs": [],
   "source": [
    "titles = ['Coal', 'Hydro', 'Solar', 'Wind', 'Gas', 'Biomass', 'Oil', 'Nuclear']"
   ]
  },
  {
   "cell_type": "code",
   "execution_count": 11,
   "id": "9f3caaa3",
   "metadata": {},
   "outputs": [
    {
     "name": "stdout",
     "output_type": "stream",
     "text": [
      "Coal       258\n",
      "Hydro      251\n",
      "Solar      127\n",
      "Wind       123\n",
      "Gas         69\n",
      "Biomass     50\n",
      "Oil         20\n",
      "Nuclear      9\n",
      "Name: primary_fuel, dtype: int64\n"
     ]
    },
    {
     "data": {
      "image/png": "[encoded data removed]",
      "text/plain": [
       "<Figure size 720x504 with 1 Axes>"
      ]
     },
     "metadata": {},
     "output_type": "display_data"
    }
   ],
   "source": [
    "# Let's' take a look at the Primary Fuel Variable\n",
    "print((df['primary_fuel'].value_counts()))\n",
    "fig = plt.figure(figsize =(10, 7))\n",
    "plt.pie(df['primary_fuel'].value_counts(), labels = titles, autopct='%1.1f%%')\n",
    "plt.show()"
   ]
  },
  {
   "cell_type": "code",
   "execution_count": 12,
   "id": "950bea87",
   "metadata": {},
   "outputs": [
    {
     "data": {
      "text/plain": [
       "<AxesSubplot:xlabel='primary_fuel', ylabel='count'>"
      ]
     },
     "execution_count": 12,
     "metadata": {},
     "output_type": "execute_result"
    },
    {
     "data": {
      "image/png": "[encoded data removed]",
      "text/plain": [
       "<Figure size 432x288 with 1 Axes>"
      ]
     },
     "metadata": {
      "needs_background": "light"
     },
     "output_type": "display_data"
    }
   ],
   "source": [
    "sns.countplot(df['primary_fuel'])"
   ]
  },
  {
   "cell_type": "markdown",
   "id": "c5e8f1f3",
   "metadata": {},
   "source": [
    "We notice that most of thr primary fuel came from Coal and Hydro, Solar, Wind and Gas also provided a reasonable amount of primary fuel meanwhile Oil and Nuclear were raely used"
   ]
  },
  {
   "cell_type": "code",
   "execution_count": 13,
   "id": "afc63321",
   "metadata": {},
   "outputs": [
    {
     "name": "stdout",
     "output_type": "stream",
     "text": [
      "326.2237552370453\n"
     ]
    },
    {
     "data": {
      "image/png": "[encoded data removed]",
      "text/plain": [
       "<Figure size 800x480 with 1 Axes>"
      ]
     },
     "metadata": {
      "needs_background": "light"
     },
     "output_type": "display_data"
    }
   ],
   "source": [
    "# Let's' take a look at the Capacity Variable\n",
    "plt.figure(figsize=(10,6), dpi=80)\n",
    "sns.histplot(data=df, x='capacity_mw', bins=42, kde=True).set_title('Capacity Distribution')\n",
    "print(df['capacity_mw'].mean())"
   ]
  },
  {
   "cell_type": "markdown",
   "id": "12517e56",
   "metadata": {},
   "source": [
    "We can see that majority of the power plants had capacities between 2mw t0 100mw but the capacity range was so wide with some plants going up 4800mw"
   ]
  },
  {
   "cell_type": "code",
   "execution_count": 14,
   "id": "9aa4cc0b",
   "metadata": {},
   "outputs": [],
   "source": [
    "# defining a function for plotting bar charts\n",
    "def bar_chart(ax):\n",
    "    all_heights = [[p.get_height() for p in bars] for bars in ax.containers]\n",
    "    for bars in ax.containers:\n",
    "        for i, p in enumerate(bars):\n",
    "            total = sum(xgroup[i] for xgroup in all_heights)\n",
    "            percentage = f'{(100 * p.get_height() / total) :.1f}%'\n",
    "            ax.annotate(percentage, (p.get_x() + p.get_width() / 2, p.get_height()), size=11, ha='center', va='bottom')"
   ]
  },
  {
   "cell_type": "code",
   "execution_count": 15,
   "id": "739cfed9",
   "metadata": {},
   "outputs": [
    {
     "data": {
      "text/plain": [
       "<AxesSubplot:xlabel='primary_fuel', ylabel='capacity_mw'>"
      ]
     },
     "execution_count": 15,
     "metadata": {},
     "output_type": "execute_result"
    },
    {
     "data": {
      "image/png": "[encoded data removed]",
      "text/plain": [
       "<Figure size 432x288 with 1 Axes>"
      ]
     },
     "metadata": {
      "needs_background": "light"
     },
     "output_type": "display_data"
    }
   ],
   "source": [
    "sns.barplot(data=df, x='primary_fuel', y=df['capacity_mw'].value_counts())"
   ]
  },
  {
   "cell_type": "code",
   "execution_count": 16,
   "id": "1763cddf",
   "metadata": {},
   "outputs": [
    {
     "data": {
      "text/plain": [
       "<AxesSubplot:title={'center':'Capacity Of Each Primary Fuel Type'}, xlabel='primary_fuel', ylabel='capacity_mw'>"
      ]
     },
     "execution_count": 16,
     "metadata": {},
     "output_type": "execute_result"
    },
    {
     "data": {
      "image/png": "[encoded data removed]",
      "text/plain": [
       "<Figure size 648x432 with 1 Axes>"
      ]
     },
     "metadata": {
      "needs_background": "light"
     },
     "output_type": "display_data"
    }
   ],
   "source": [
    "# Lets see if Primary Fuel and Capacity did affect each other\n",
    "plt.figure(figsize = (9,6))\n",
    "plt.title('Capacity Of Each Primary Fuel Type')\n",
    "sns.boxplot(x= 'primary_fuel', y = 'capacity_mw', data = df)"
   ]
  },
  {
   "cell_type": "code",
   "execution_count": 17,
   "id": "2977ccb0",
   "metadata": {},
   "outputs": [
    {
     "name": "stdout",
     "output_type": "stream",
     "text": [
      "21.71259842519685\n",
      "797.826434108527\n",
      "33.42967479674796\n",
      "364.81892753623185\n",
      "185.02697211155373\n",
      "20.0652\n",
      "88.942\n",
      "975.5555555555555\n"
     ]
    }
   ],
   "source": [
    "solar = df[df['primary_fuel']== 'Solar']\n",
    "coal = df[df['primary_fuel']== 'Coal']\n",
    "wind = df[df['primary_fuel']== 'Wind']\n",
    "gas = df[df['primary_fuel']== 'Gas']\n",
    "hydro = df[df['primary_fuel']== 'Hydro']\n",
    "biomass = df[df['primary_fuel']== 'Biomass']\n",
    "oil = df[df['primary_fuel']== 'Oil']\n",
    "nuclear = df[df['primary_fuel']== 'Nuclear']\n",
    "primary = [solar,coal,wind,gas,hydro,biomass,oil,nuclear]\n",
    "for i in primary:\n",
    "    print(np.mean(i.capacity_mw))"
   ]
  },
  {
   "cell_type": "markdown",
   "id": "481565ab",
   "metadata": {},
   "source": [
    "We notice that despite the fact the nuclear was rarely used, nuclear plants tend to have very high production capabilities with an average capacity of 975mw. We can also see that Solar, Wind, Biomass and Oil have the lowest production capacities.\n",
    "So we can conclude that the type of fuel the plant uses will affect the capacity of production."
   ]
  },
  {
   "cell_type": "code",
   "execution_count": 18,
   "id": "6eebf815",
   "metadata": {},
   "outputs": [
    {
     "data": {
      "text/plain": [
       "<AxesSubplot:title={'center':'Capacity By Geolocation Source'}, xlabel='geolocation_source', ylabel='capacity_mw'>"
      ]
     },
     "execution_count": 18,
     "metadata": {},
     "output_type": "execute_result"
    },
    {
     "data": {
      "image/png": "[encoded data removed]",
      "text/plain": [
       "<Figure size 1440x432 with 1 Axes>"
      ]
     },
     "metadata": {
      "needs_background": "light"
     },
     "output_type": "display_data"
    }
   ],
   "source": [
    "# Let's look at the capacity from various geolocations\n",
    "plt.figure(figsize =(20,6))\n",
    "plt.title('Capacity By Geolocation Source')\n",
    "plt.xticks(rotation ='vertical')\n",
    "sns.boxplot(x = 'geolocation_source', y = 'capacity_mw', data = df, width = 1, whis= 2)"
   ]
  },
  {
   "cell_type": "code",
   "execution_count": 19,
   "id": "3f4d2cf4",
   "metadata": {},
   "outputs": [
    {
     "data": {
      "text/plain": [
       "<AxesSubplot:title={'center':'Capacity By omission Year'}, xlabel='commissioning_year', ylabel='capacity_mw'>"
      ]
     },
     "execution_count": 19,
     "metadata": {},
     "output_type": "execute_result"
    },
    {
     "data": {
      "image/png": "[encoded data removed]",
      "text/plain": [
       "<Figure size 1440x432 with 1 Axes>"
      ]
     },
     "metadata": {
      "needs_background": "light"
     },
     "output_type": "display_data"
    }
   ],
   "source": [
    "# Let's look at the capacity from various geolocations\n",
    "plt.figure(figsize =(20,6))\n",
    "plt.title('Capacity By omission Year')\n",
    "plt.xticks(rotation ='vertical')\n",
    "sns.boxplot(x = 'commissioning_year', y = 'capacity_mw', data = df, width = 1, whis= 2)"
   ]
  },
  {
   "cell_type": "code",
   "execution_count": 20,
   "id": "39d17612",
   "metadata": {},
   "outputs": [
    {
     "name": "stdout",
     "output_type": "stream",
     "text": [
      "2431.823590196344\n"
     ]
    },
    {
     "data": {
      "image/png": "[encoded data removed]",
      "text/plain": [
       "<Figure size 800x480 with 1 Axes>"
      ]
     },
     "metadata": {
      "needs_background": "light"
     },
     "output_type": "display_data"
    }
   ],
   "source": [
    "# Let's' take a look at the Generation in 2014\n",
    "plt.figure(figsize=(10,6), dpi=80)\n",
    "sns.histplot(data=df, x='generation_gwh_2014').set_title('Generation 2014')\n",
    "print(df['generation_gwh_2014'].mean())"
   ]
  },
  {
   "cell_type": "code",
   "execution_count": 21,
   "id": "e4bc404f",
   "metadata": {},
   "outputs": [
    {
     "name": "stdout",
     "output_type": "stream",
     "text": [
      "2428.2269459614085\n"
     ]
    },
    {
     "data": {
      "image/png": "[encoded data removed]",
      "text/plain": [
       "<Figure size 800x480 with 1 Axes>"
      ]
     },
     "metadata": {
      "needs_background": "light"
     },
     "output_type": "display_data"
    }
   ],
   "source": [
    "# Let's' take a look at the Generation in 2014\n",
    "plt.figure(figsize=(10,6), dpi=80)\n",
    "sns.histplot(data=df, x='generation_gwh_2015').set_title('Generation 2015')\n",
    "print(df['generation_gwh_2015'].mean())"
   ]
  },
  {
   "cell_type": "code",
   "execution_count": 22,
   "id": "4d3faa9c",
   "metadata": {},
   "outputs": [
    {
     "name": "stdout",
     "output_type": "stream",
     "text": [
      "2467.936858634909\n"
     ]
    },
    {
     "data": {
      "image/png": "[encoded data removed]",
      "text/plain": [
       "<Figure size 800x480 with 1 Axes>"
      ]
     },
     "metadata": {
      "needs_background": "light"
     },
     "output_type": "display_data"
    }
   ],
   "source": [
    "# Let's' take a look at the Generation in 2014\n",
    "plt.figure(figsize=(10,6), dpi=80)\n",
    "sns.histplot(data=df, x='generation_gwh_2016').set_title('Generation 2016')\n",
    "print(df['generation_gwh_2016'].mean())"
   ]
  },
  {
   "cell_type": "code",
   "execution_count": null,
   "id": "fb7be059",
   "metadata": {},
   "outputs": [],
   "source": []
  },
  {
   "cell_type": "code",
   "execution_count": 23,
   "id": "fc7b5254",
   "metadata": {},
   "outputs": [
    {
     "name": "stdout",
     "output_type": "stream",
     "text": [
      "2547.759304510204\n"
     ]
    },
    {
     "data": {
      "image/png": "[encoded data removed]",
      "text/plain": [
       "<Figure size 800x480 with 1 Axes>"
      ]
     },
     "metadata": {
      "needs_background": "light"
     },
     "output_type": "display_data"
    }
   ],
   "source": [
    "# Let's' take a look at the Generation in 2014\n",
    "plt.figure(figsize=(10,6), dpi=80)\n",
    "sns.histplot(data=df, x='generation_gwh_2017').set_title('Generation 2017')\n",
    "print(df['generation_gwh_2017'].mean())"
   ]
  },
  {
   "cell_type": "code",
   "execution_count": 24,
   "id": "e1f53a31",
   "metadata": {},
   "outputs": [
    {
     "name": "stdout",
     "output_type": "stream",
     "text": [
      "2600.804098662014\n"
     ]
    },
    {
     "data": {
      "image/png": "[encoded data removed]",
      "text/plain": [
       "<Figure size 800x480 with 1 Axes>"
      ]
     },
     "metadata": {
      "needs_background": "light"
     },
     "output_type": "display_data"
    }
   ],
   "source": [
    "# Let's' take a look at the Generation in 2014\n",
    "plt.figure(figsize=(10,6), dpi=80)\n",
    "sns.histplot(data=df, x='generation_gwh_2018').set_title('Generation 2018')\n",
    "print(df['generation_gwh_2018'].mean())"
   ]
  },
  {
   "cell_type": "raw",
   "id": "ac184b70",
   "metadata": {},
   "source": [
    "The Power  Generation accross the years follow the same trend\n",
    "The other columns in the dataset are more than 80% null or IDs and names which do not influnce the production capacity. \n",
    "We will be dropping them as we go further"
   ]
  },
  {
   "cell_type": "markdown",
   "id": "cbab090a",
   "metadata": {},
   "source": [
    "### Pre Processing and Data Cleaning"
   ]
  },
  {
   "cell_type": "code",
   "execution_count": 25,
   "id": "3f6f5e55",
   "metadata": {},
   "outputs": [
    {
     "name": "stdout",
     "output_type": "stream",
     "text": [
      "country: Number of unique values 1\n",
      "________________________________________________\n",
      "country_long: Number of unique values 1\n",
      "________________________________________________\n",
      "name: Number of unique values 907\n",
      "________________________________________________\n",
      "gppd_idnr: Number of unique values 907\n",
      "________________________________________________\n",
      "capacity_mw: Number of unique values 361\n",
      "________________________________________________\n",
      "latitude: Number of unique values 836\n",
      "________________________________________________\n",
      "longitude: Number of unique values 827\n",
      "________________________________________________\n",
      "primary_fuel: Number of unique values 8\n",
      "________________________________________________\n",
      "other_fuel1: Number of unique values 3\n",
      "________________________________________________\n",
      "other_fuel2: Number of unique values 1\n",
      "________________________________________________\n",
      "other_fuel3: Number of unique values 0\n",
      "________________________________________________\n",
      "commissioning_year: Number of unique values 73\n",
      "________________________________________________\n",
      "owner: Number of unique values 280\n",
      "________________________________________________\n",
      "source: Number of unique values 191\n",
      "________________________________________________\n",
      "url: Number of unique values 304\n",
      "________________________________________________\n",
      "geolocation_source: Number of unique values 3\n",
      "________________________________________________\n",
      "wepp_id: Number of unique values 0\n",
      "________________________________________________\n",
      "year_of_capacity_data: Number of unique values 1\n",
      "________________________________________________\n",
      "generation_gwh_2013: Number of unique values 0\n",
      "________________________________________________\n",
      "generation_gwh_2014: Number of unique values 371\n",
      "________________________________________________\n",
      "generation_gwh_2015: Number of unique values 396\n",
      "________________________________________________\n",
      "generation_gwh_2016: Number of unique values 403\n",
      "________________________________________________\n",
      "generation_gwh_2017: Number of unique values 408\n",
      "________________________________________________\n",
      "generation_gwh_2018: Number of unique values 410\n",
      "________________________________________________\n",
      "generation_gwh_2019: Number of unique values 0\n",
      "________________________________________________\n",
      "generation_data_source: Number of unique values 1\n",
      "________________________________________________\n",
      "estimated_generation_gwh: Number of unique values 0\n",
      "________________________________________________\n"
     ]
    }
   ],
   "source": [
    "# let's check for unique values in the dataset\n",
    "for column in df.columns:\n",
    "    print(f\"{column}: Number of unique values {df[column].nunique()}\")\n",
    "    print('________________________________________________')"
   ]
  },
  {
   "cell_type": "code",
   "execution_count": 26,
   "id": "434e280d",
   "metadata": {},
   "outputs": [
    {
     "data": {
      "text/plain": [
       "country                       0\n",
       "country_long                  0\n",
       "name                          0\n",
       "gppd_idnr                     0\n",
       "capacity_mw                   0\n",
       "latitude                     46\n",
       "longitude                    46\n",
       "primary_fuel                  0\n",
       "other_fuel1                 709\n",
       "other_fuel2                 906\n",
       "other_fuel3                 907\n",
       "commissioning_year          380\n",
       "owner                       565\n",
       "source                        0\n",
       "url                           0\n",
       "geolocation_source           19\n",
       "wepp_id                     907\n",
       "year_of_capacity_data       388\n",
       "generation_gwh_2013         907\n",
       "generation_gwh_2014         509\n",
       "generation_gwh_2015         485\n",
       "generation_gwh_2016         473\n",
       "generation_gwh_2017         467\n",
       "generation_gwh_2018         459\n",
       "generation_gwh_2019         907\n",
       "generation_data_source      458\n",
       "estimated_generation_gwh    907\n",
       "dtype: int64"
      ]
     },
     "execution_count": 26,
     "metadata": {},
     "output_type": "execute_result"
    }
   ],
   "source": [
    "df.isnull().sum()"
   ]
  },
  {
   "cell_type": "raw",
   "id": "a29206a4",
   "metadata": {},
   "source": [
    "We can see that most of the columns have more then 50% null values and will not guive us real information so we will drop them"
   ]
  },
  {
   "cell_type": "code",
   "execution_count": 27,
   "id": "6903aab3",
   "metadata": {},
   "outputs": [
    {
     "data": {
      "text/html": [
       "<div>\n",
       "<style scoped>\n",
       "    .dataframe tbody tr th:only-of-type {\n",
       "        vertical-align: middle;\n",
       "    }\n",
       "\n",
       "    .dataframe tbody tr th {\n",
       "        vertical-align: top;\n",
       "    }\n",
       "\n",
       "    .dataframe thead th {\n",
       "        text-align: right;\n",
       "    }\n",
       "</style>\n",
       "<table border=\"1\" class=\"dataframe\">\n",
       "  <thead>\n",
       "    <tr style=\"text-align: right;\">\n",
       "      <th></th>\n",
       "      <th>name</th>\n",
       "      <th>gppd_idnr</th>\n",
       "      <th>capacity_mw</th>\n",
       "      <th>latitude</th>\n",
       "      <th>longitude</th>\n",
       "      <th>primary_fuel</th>\n",
       "      <th>other_fuel1</th>\n",
       "      <th>other_fuel3</th>\n",
       "      <th>commissioning_year</th>\n",
       "      <th>owner</th>\n",
       "      <th>...</th>\n",
       "      <th>geolocation_source</th>\n",
       "      <th>wepp_id</th>\n",
       "      <th>generation_gwh_2013</th>\n",
       "      <th>generation_gwh_2014</th>\n",
       "      <th>generation_gwh_2015</th>\n",
       "      <th>generation_gwh_2016</th>\n",
       "      <th>generation_gwh_2017</th>\n",
       "      <th>generation_gwh_2018</th>\n",
       "      <th>generation_gwh_2019</th>\n",
       "      <th>estimated_generation_gwh</th>\n",
       "    </tr>\n",
       "  </thead>\n",
       "  <tbody>\n",
       "    <tr>\n",
       "      <th>0</th>\n",
       "      <td>ACME Solar Tower</td>\n",
       "      <td>WRI1020239</td>\n",
       "      <td>2.5</td>\n",
       "      <td>28.1839</td>\n",
       "      <td>73.2407</td>\n",
       "      <td>Solar</td>\n",
       "      <td>NaN</td>\n",
       "      <td>NaN</td>\n",
       "      <td>2011.0</td>\n",
       "      <td>Solar Paces</td>\n",
       "      <td>...</td>\n",
       "      <td>National Renewable Energy Laboratory</td>\n",
       "      <td>NaN</td>\n",
       "      <td>NaN</td>\n",
       "      <td>NaN</td>\n",
       "      <td>NaN</td>\n",
       "      <td>NaN</td>\n",
       "      <td>NaN</td>\n",
       "      <td>NaN</td>\n",
       "      <td>NaN</td>\n",
       "      <td>NaN</td>\n",
       "    </tr>\n",
       "    <tr>\n",
       "      <th>1</th>\n",
       "      <td>ADITYA CEMENT WORKS</td>\n",
       "      <td>WRI1019881</td>\n",
       "      <td>98.0</td>\n",
       "      <td>24.7663</td>\n",
       "      <td>74.6090</td>\n",
       "      <td>Coal</td>\n",
       "      <td>NaN</td>\n",
       "      <td>NaN</td>\n",
       "      <td>NaN</td>\n",
       "      <td>Ultratech Cement ltd</td>\n",
       "      <td>...</td>\n",
       "      <td>WRI</td>\n",
       "      <td>NaN</td>\n",
       "      <td>NaN</td>\n",
       "      <td>NaN</td>\n",
       "      <td>NaN</td>\n",
       "      <td>NaN</td>\n",
       "      <td>NaN</td>\n",
       "      <td>NaN</td>\n",
       "      <td>NaN</td>\n",
       "      <td>NaN</td>\n",
       "    </tr>\n",
       "    <tr>\n",
       "      <th>2</th>\n",
       "      <td>AES Saurashtra Windfarms</td>\n",
       "      <td>WRI1026669</td>\n",
       "      <td>39.2</td>\n",
       "      <td>21.9038</td>\n",
       "      <td>69.3732</td>\n",
       "      <td>Wind</td>\n",
       "      <td>NaN</td>\n",
       "      <td>NaN</td>\n",
       "      <td>NaN</td>\n",
       "      <td>AES</td>\n",
       "      <td>...</td>\n",
       "      <td>WRI</td>\n",
       "      <td>NaN</td>\n",
       "      <td>NaN</td>\n",
       "      <td>NaN</td>\n",
       "      <td>NaN</td>\n",
       "      <td>NaN</td>\n",
       "      <td>NaN</td>\n",
       "      <td>NaN</td>\n",
       "      <td>NaN</td>\n",
       "      <td>NaN</td>\n",
       "    </tr>\n",
       "    <tr>\n",
       "      <th>3</th>\n",
       "      <td>AGARTALA GT</td>\n",
       "      <td>IND0000001</td>\n",
       "      <td>135.0</td>\n",
       "      <td>23.8712</td>\n",
       "      <td>91.3602</td>\n",
       "      <td>Gas</td>\n",
       "      <td>NaN</td>\n",
       "      <td>NaN</td>\n",
       "      <td>2004.0</td>\n",
       "      <td>NaN</td>\n",
       "      <td>...</td>\n",
       "      <td>WRI</td>\n",
       "      <td>NaN</td>\n",
       "      <td>NaN</td>\n",
       "      <td>617.789264</td>\n",
       "      <td>843.747</td>\n",
       "      <td>886.004428</td>\n",
       "      <td>663.774500</td>\n",
       "      <td>626.239128</td>\n",
       "      <td>NaN</td>\n",
       "      <td>NaN</td>\n",
       "    </tr>\n",
       "    <tr>\n",
       "      <th>4</th>\n",
       "      <td>AKALTARA TPP</td>\n",
       "      <td>IND0000002</td>\n",
       "      <td>1800.0</td>\n",
       "      <td>21.9603</td>\n",
       "      <td>82.4091</td>\n",
       "      <td>Coal</td>\n",
       "      <td>Oil</td>\n",
       "      <td>NaN</td>\n",
       "      <td>2015.0</td>\n",
       "      <td>NaN</td>\n",
       "      <td>...</td>\n",
       "      <td>WRI</td>\n",
       "      <td>NaN</td>\n",
       "      <td>NaN</td>\n",
       "      <td>3035.550000</td>\n",
       "      <td>5916.370</td>\n",
       "      <td>6243.000000</td>\n",
       "      <td>5385.579736</td>\n",
       "      <td>7279.000000</td>\n",
       "      <td>NaN</td>\n",
       "      <td>NaN</td>\n",
       "    </tr>\n",
       "  </tbody>\n",
       "</table>\n",
       "<p>5 rows × 22 columns</p>\n",
       "</div>"
      ],
      "text/plain": [
       "                       name   gppd_idnr  capacity_mw  latitude  longitude  \\\n",
       "0          ACME Solar Tower  WRI1020239          2.5   28.1839    73.2407   \n",
       "1       ADITYA CEMENT WORKS  WRI1019881         98.0   24.7663    74.6090   \n",
       "2  AES Saurashtra Windfarms  WRI1026669         39.2   21.9038    69.3732   \n",
       "3               AGARTALA GT  IND0000001        135.0   23.8712    91.3602   \n",
       "4              AKALTARA TPP  IND0000002       1800.0   21.9603    82.4091   \n",
       "\n",
       "  primary_fuel other_fuel1  other_fuel3  commissioning_year  \\\n",
       "0        Solar         NaN          NaN              2011.0   \n",
       "1         Coal         NaN          NaN                 NaN   \n",
       "2         Wind         NaN          NaN                 NaN   \n",
       "3          Gas         NaN          NaN              2004.0   \n",
       "4         Coal         Oil          NaN              2015.0   \n",
       "\n",
       "                  owner  ...                    geolocation_source wepp_id  \\\n",
       "0           Solar Paces  ...  National Renewable Energy Laboratory     NaN   \n",
       "1  Ultratech Cement ltd  ...                                   WRI     NaN   \n",
       "2                   AES  ...                                   WRI     NaN   \n",
       "3                   NaN  ...                                   WRI     NaN   \n",
       "4                   NaN  ...                                   WRI     NaN   \n",
       "\n",
       "  generation_gwh_2013  generation_gwh_2014  generation_gwh_2015  \\\n",
       "0                 NaN                  NaN                  NaN   \n",
       "1                 NaN                  NaN                  NaN   \n",
       "2                 NaN                  NaN                  NaN   \n",
       "3                 NaN           617.789264              843.747   \n",
       "4                 NaN          3035.550000             5916.370   \n",
       "\n",
       "   generation_gwh_2016  generation_gwh_2017  generation_gwh_2018  \\\n",
       "0                  NaN                  NaN                  NaN   \n",
       "1                  NaN                  NaN                  NaN   \n",
       "2                  NaN                  NaN                  NaN   \n",
       "3           886.004428           663.774500           626.239128   \n",
       "4          6243.000000          5385.579736          7279.000000   \n",
       "\n",
       "   generation_gwh_2019  estimated_generation_gwh  \n",
       "0                  NaN                       NaN  \n",
       "1                  NaN                       NaN  \n",
       "2                  NaN                       NaN  \n",
       "3                  NaN                       NaN  \n",
       "4                  NaN                       NaN  \n",
       "\n",
       "[5 rows x 22 columns]"
      ]
     },
     "execution_count": 27,
     "metadata": {},
     "output_type": "execute_result"
    }
   ],
   "source": [
    "# We will drop all columns with one unique value since they do not have any influence on the model\n",
    "uniques = []\n",
    "for column in df.columns:\n",
    "    if df[column].nunique() == 1:\n",
    "        uniques.append(column)\n",
    "df = df.drop(columns=uniques, axis=1)\n",
    "df.head()"
   ]
  },
  {
   "cell_type": "code",
   "execution_count": 28,
   "id": "e0807666",
   "metadata": {},
   "outputs": [
    {
     "data": {
      "text/html": [
       "<div>\n",
       "<style scoped>\n",
       "    .dataframe tbody tr th:only-of-type {\n",
       "        vertical-align: middle;\n",
       "    }\n",
       "\n",
       "    .dataframe tbody tr th {\n",
       "        vertical-align: top;\n",
       "    }\n",
       "\n",
       "    .dataframe thead th {\n",
       "        text-align: right;\n",
       "    }\n",
       "</style>\n",
       "<table border=\"1\" class=\"dataframe\">\n",
       "  <thead>\n",
       "    <tr style=\"text-align: right;\">\n",
       "      <th></th>\n",
       "      <th>name</th>\n",
       "      <th>gppd_idnr</th>\n",
       "      <th>capacity_mw</th>\n",
       "      <th>latitude</th>\n",
       "      <th>longitude</th>\n",
       "      <th>primary_fuel</th>\n",
       "      <th>source</th>\n",
       "      <th>url</th>\n",
       "      <th>geolocation_source</th>\n",
       "    </tr>\n",
       "  </thead>\n",
       "  <tbody>\n",
       "    <tr>\n",
       "      <th>0</th>\n",
       "      <td>ACME Solar Tower</td>\n",
       "      <td>WRI1020239</td>\n",
       "      <td>2.5</td>\n",
       "      <td>28.1839</td>\n",
       "      <td>73.2407</td>\n",
       "      <td>Solar</td>\n",
       "      <td>National Renewable Energy Laboratory</td>\n",
       "      <td>http://www.nrel.gov/csp/solarpaces/project_det...</td>\n",
       "      <td>National Renewable Energy Laboratory</td>\n",
       "    </tr>\n",
       "    <tr>\n",
       "      <th>1</th>\n",
       "      <td>ADITYA CEMENT WORKS</td>\n",
       "      <td>WRI1019881</td>\n",
       "      <td>98.0</td>\n",
       "      <td>24.7663</td>\n",
       "      <td>74.6090</td>\n",
       "      <td>Coal</td>\n",
       "      <td>Ultratech Cement ltd</td>\n",
       "      <td>http://www.ultratechcement.com/</td>\n",
       "      <td>WRI</td>\n",
       "    </tr>\n",
       "    <tr>\n",
       "      <th>2</th>\n",
       "      <td>AES Saurashtra Windfarms</td>\n",
       "      <td>WRI1026669</td>\n",
       "      <td>39.2</td>\n",
       "      <td>21.9038</td>\n",
       "      <td>69.3732</td>\n",
       "      <td>Wind</td>\n",
       "      <td>CDM</td>\n",
       "      <td>https://cdm.unfccc.int/Projects/DB/DNV-CUK1328...</td>\n",
       "      <td>WRI</td>\n",
       "    </tr>\n",
       "    <tr>\n",
       "      <th>3</th>\n",
       "      <td>AGARTALA GT</td>\n",
       "      <td>IND0000001</td>\n",
       "      <td>135.0</td>\n",
       "      <td>23.8712</td>\n",
       "      <td>91.3602</td>\n",
       "      <td>Gas</td>\n",
       "      <td>Central Electricity Authority</td>\n",
       "      <td>http://www.cea.nic.in/</td>\n",
       "      <td>WRI</td>\n",
       "    </tr>\n",
       "    <tr>\n",
       "      <th>4</th>\n",
       "      <td>AKALTARA TPP</td>\n",
       "      <td>IND0000002</td>\n",
       "      <td>1800.0</td>\n",
       "      <td>21.9603</td>\n",
       "      <td>82.4091</td>\n",
       "      <td>Coal</td>\n",
       "      <td>Central Electricity Authority</td>\n",
       "      <td>http://www.cea.nic.in/</td>\n",
       "      <td>WRI</td>\n",
       "    </tr>\n",
       "  </tbody>\n",
       "</table>\n",
       "</div>"
      ],
      "text/plain": [
       "                       name   gppd_idnr  capacity_mw  latitude  longitude  \\\n",
       "0          ACME Solar Tower  WRI1020239          2.5   28.1839    73.2407   \n",
       "1       ADITYA CEMENT WORKS  WRI1019881         98.0   24.7663    74.6090   \n",
       "2  AES Saurashtra Windfarms  WRI1026669         39.2   21.9038    69.3732   \n",
       "3               AGARTALA GT  IND0000001        135.0   23.8712    91.3602   \n",
       "4              AKALTARA TPP  IND0000002       1800.0   21.9603    82.4091   \n",
       "\n",
       "  primary_fuel                                source  \\\n",
       "0        Solar  National Renewable Energy Laboratory   \n",
       "1         Coal                  Ultratech Cement ltd   \n",
       "2         Wind                                   CDM   \n",
       "3          Gas         Central Electricity Authority   \n",
       "4         Coal         Central Electricity Authority   \n",
       "\n",
       "                                                 url  \\\n",
       "0  http://www.nrel.gov/csp/solarpaces/project_det...   \n",
       "1                    http://www.ultratechcement.com/   \n",
       "2  https://cdm.unfccc.int/Projects/DB/DNV-CUK1328...   \n",
       "3                             http://www.cea.nic.in/   \n",
       "4                             http://www.cea.nic.in/   \n",
       "\n",
       "                     geolocation_source  \n",
       "0  National Renewable Energy Laboratory  \n",
       "1                                   WRI  \n",
       "2                                   WRI  \n",
       "3                                   WRI  \n",
       "4                                   WRI  "
      ]
     },
     "execution_count": 28,
     "metadata": {},
     "output_type": "execute_result"
    }
   ],
   "source": [
    "# We will drop all columns with null values above 50%\n",
    "nulls = []\n",
    "for column in df.columns:\n",
    "    if df[column].isnull().sum() > 300:\n",
    "        nulls.append(column)\n",
    "df = df.drop(columns=nulls, axis=1)\n",
    "df.head()"
   ]
  },
  {
   "cell_type": "code",
   "execution_count": 30,
   "id": "93e85d61",
   "metadata": {},
   "outputs": [
    {
     "data": {
      "text/html": [
       "<div>\n",
       "<style scoped>\n",
       "    .dataframe tbody tr th:only-of-type {\n",
       "        vertical-align: middle;\n",
       "    }\n",
       "\n",
       "    .dataframe tbody tr th {\n",
       "        vertical-align: top;\n",
       "    }\n",
       "\n",
       "    .dataframe thead th {\n",
       "        text-align: right;\n",
       "    }\n",
       "</style>\n",
       "<table border=\"1\" class=\"dataframe\">\n",
       "  <thead>\n",
       "    <tr style=\"text-align: right;\">\n",
       "      <th></th>\n",
       "      <th>capacity_mw</th>\n",
       "      <th>latitude</th>\n",
       "      <th>longitude</th>\n",
       "      <th>primary_fuel</th>\n",
       "      <th>source</th>\n",
       "      <th>geolocation_source</th>\n",
       "    </tr>\n",
       "  </thead>\n",
       "  <tbody>\n",
       "    <tr>\n",
       "      <th>0</th>\n",
       "      <td>2.5</td>\n",
       "      <td>28.1839</td>\n",
       "      <td>73.2407</td>\n",
       "      <td>Solar</td>\n",
       "      <td>National Renewable Energy Laboratory</td>\n",
       "      <td>National Renewable Energy Laboratory</td>\n",
       "    </tr>\n",
       "    <tr>\n",
       "      <th>1</th>\n",
       "      <td>98.0</td>\n",
       "      <td>24.7663</td>\n",
       "      <td>74.6090</td>\n",
       "      <td>Coal</td>\n",
       "      <td>Ultratech Cement ltd</td>\n",
       "      <td>WRI</td>\n",
       "    </tr>\n",
       "    <tr>\n",
       "      <th>2</th>\n",
       "      <td>39.2</td>\n",
       "      <td>21.9038</td>\n",
       "      <td>69.3732</td>\n",
       "      <td>Wind</td>\n",
       "      <td>CDM</td>\n",
       "      <td>WRI</td>\n",
       "    </tr>\n",
       "    <tr>\n",
       "      <th>3</th>\n",
       "      <td>135.0</td>\n",
       "      <td>23.8712</td>\n",
       "      <td>91.3602</td>\n",
       "      <td>Gas</td>\n",
       "      <td>Central Electricity Authority</td>\n",
       "      <td>WRI</td>\n",
       "    </tr>\n",
       "    <tr>\n",
       "      <th>4</th>\n",
       "      <td>1800.0</td>\n",
       "      <td>21.9603</td>\n",
       "      <td>82.4091</td>\n",
       "      <td>Coal</td>\n",
       "      <td>Central Electricity Authority</td>\n",
       "      <td>WRI</td>\n",
       "    </tr>\n",
       "  </tbody>\n",
       "</table>\n",
       "</div>"
      ],
      "text/plain": [
       "   capacity_mw  latitude  longitude primary_fuel  \\\n",
       "0          2.5   28.1839    73.2407        Solar   \n",
       "1         98.0   24.7663    74.6090         Coal   \n",
       "2         39.2   21.9038    69.3732         Wind   \n",
       "3        135.0   23.8712    91.3602          Gas   \n",
       "4       1800.0   21.9603    82.4091         Coal   \n",
       "\n",
       "                                 source                    geolocation_source  \n",
       "0  National Renewable Energy Laboratory  National Renewable Energy Laboratory  \n",
       "1                  Ultratech Cement ltd                                   WRI  \n",
       "2                                   CDM                                   WRI  \n",
       "3         Central Electricity Authority                                   WRI  \n",
       "4         Central Electricity Authority                                   WRI  "
      ]
     },
     "execution_count": 30,
     "metadata": {},
     "output_type": "execute_result"
    }
   ],
   "source": [
    "# dropping columns that are not important for our model training\n",
    "df = df.drop(columns=['name','gppd_idnr','url'], axis=1)\n",
    "df.head()"
   ]
  },
  {
   "cell_type": "code",
   "execution_count": 31,
   "id": "ffb4f134",
   "metadata": {},
   "outputs": [
    {
     "data": {
      "text/plain": [
       "capacity_mw            0\n",
       "latitude              46\n",
       "longitude             46\n",
       "primary_fuel           0\n",
       "source                 0\n",
       "geolocation_source    19\n",
       "dtype: int64"
      ]
     },
     "execution_count": 31,
     "metadata": {},
     "output_type": "execute_result"
    }
   ],
   "source": [
    "df.isnull().sum()"
   ]
  },
  {
   "cell_type": "code",
   "execution_count": 32,
   "id": "3412cd95",
   "metadata": {},
   "outputs": [
    {
     "data": {
      "text/html": [
       "<div>\n",
       "<style scoped>\n",
       "    .dataframe tbody tr th:only-of-type {\n",
       "        vertical-align: middle;\n",
       "    }\n",
       "\n",
       "    .dataframe tbody tr th {\n",
       "        vertical-align: top;\n",
       "    }\n",
       "\n",
       "    .dataframe thead th {\n",
       "        text-align: right;\n",
       "    }\n",
       "</style>\n",
       "<table border=\"1\" class=\"dataframe\">\n",
       "  <thead>\n",
       "    <tr style=\"text-align: right;\">\n",
       "      <th></th>\n",
       "      <th>capacity_mw</th>\n",
       "      <th>latitude</th>\n",
       "      <th>longitude</th>\n",
       "      <th>primary_fuel</th>\n",
       "      <th>source</th>\n",
       "      <th>geolocation_source</th>\n",
       "    </tr>\n",
       "  </thead>\n",
       "  <tbody>\n",
       "    <tr>\n",
       "      <th>0</th>\n",
       "      <td>2.5</td>\n",
       "      <td>28.1839</td>\n",
       "      <td>73.2407</td>\n",
       "      <td>Solar</td>\n",
       "      <td>National Renewable Energy Laboratory</td>\n",
       "      <td>National Renewable Energy Laboratory</td>\n",
       "    </tr>\n",
       "    <tr>\n",
       "      <th>1</th>\n",
       "      <td>98.0</td>\n",
       "      <td>24.7663</td>\n",
       "      <td>74.6090</td>\n",
       "      <td>Coal</td>\n",
       "      <td>Ultratech Cement ltd</td>\n",
       "      <td>WRI</td>\n",
       "    </tr>\n",
       "    <tr>\n",
       "      <th>2</th>\n",
       "      <td>39.2</td>\n",
       "      <td>21.9038</td>\n",
       "      <td>69.3732</td>\n",
       "      <td>Wind</td>\n",
       "      <td>CDM</td>\n",
       "      <td>WRI</td>\n",
       "    </tr>\n",
       "    <tr>\n",
       "      <th>3</th>\n",
       "      <td>135.0</td>\n",
       "      <td>23.8712</td>\n",
       "      <td>91.3602</td>\n",
       "      <td>Gas</td>\n",
       "      <td>Central Electricity Authority</td>\n",
       "      <td>WRI</td>\n",
       "    </tr>\n",
       "    <tr>\n",
       "      <th>4</th>\n",
       "      <td>1800.0</td>\n",
       "      <td>21.9603</td>\n",
       "      <td>82.4091</td>\n",
       "      <td>Coal</td>\n",
       "      <td>Central Electricity Authority</td>\n",
       "      <td>WRI</td>\n",
       "    </tr>\n",
       "  </tbody>\n",
       "</table>\n",
       "</div>"
      ],
      "text/plain": [
       "   capacity_mw  latitude  longitude primary_fuel  \\\n",
       "0          2.5   28.1839    73.2407        Solar   \n",
       "1         98.0   24.7663    74.6090         Coal   \n",
       "2         39.2   21.9038    69.3732         Wind   \n",
       "3        135.0   23.8712    91.3602          Gas   \n",
       "4       1800.0   21.9603    82.4091         Coal   \n",
       "\n",
       "                                 source                    geolocation_source  \n",
       "0  National Renewable Energy Laboratory  National Renewable Energy Laboratory  \n",
       "1                  Ultratech Cement ltd                                   WRI  \n",
       "2                                   CDM                                   WRI  \n",
       "3         Central Electricity Authority                                   WRI  \n",
       "4         Central Electricity Authority                                   WRI  "
      ]
     },
     "execution_count": 32,
     "metadata": {},
     "output_type": "execute_result"
    }
   ],
   "source": [
    "# We will further drop the few rows with null values\n",
    "df = df.dropna(axis=0)\n",
    "df.head()"
   ]
  },
  {
   "cell_type": "code",
   "execution_count": 33,
   "id": "cfa6d8bf",
   "metadata": {},
   "outputs": [
    {
     "data": {
      "text/plain": [
       "capacity_mw           0\n",
       "latitude              0\n",
       "longitude             0\n",
       "primary_fuel          0\n",
       "source                0\n",
       "geolocation_source    0\n",
       "dtype: int64"
      ]
     },
     "execution_count": 33,
     "metadata": {},
     "output_type": "execute_result"
    }
   ],
   "source": [
    "df.isnull().sum()"
   ]
  },
  {
   "cell_type": "code",
   "execution_count": 35,
   "id": "207ce1d7",
   "metadata": {},
   "outputs": [
    {
     "data": {
      "text/plain": [
       "['primary_fuel', 'source', 'geolocation_source']"
      ]
     },
     "execution_count": 35,
     "metadata": {},
     "output_type": "execute_result"
    }
   ],
   "source": [
    "# separating the categorical columns\n",
    "categorical_col = []\n",
    "for column in df.columns:\n",
    "    if df[column].dtype == object:\n",
    "        categorical_col.append(column)\n",
    "categorical_col"
   ]
  },
  {
   "cell_type": "code",
   "execution_count": 36,
   "id": "5e1d1544",
   "metadata": {},
   "outputs": [],
   "source": [
    "# encoding the categorical columns\n",
    "from sklearn.preprocessing import LabelEncoder\n",
    "\n",
    "label = LabelEncoder()\n",
    "for column in categorical_col:\n",
    "    df[column] = label.fit_transform(df[column])"
   ]
  },
  {
   "cell_type": "code",
   "execution_count": 89,
   "id": "80d2f56f",
   "metadata": {},
   "outputs": [],
   "source": [
    "# let's save a copy of the dataset which we will use for regression\n",
    "df1 = df.copy()"
   ]
  },
  {
   "cell_type": "code",
   "execution_count": 38,
   "id": "7f98f698",
   "metadata": {},
   "outputs": [],
   "source": [
    "# let's split the data for our classificaton model\n",
    "x =  df.drop('primary_fuel', axis=1)\n",
    "y = df.primary_fuel\n",
    "x_train, x_test, y_train, y_test = train_test_split(x, y, test_size=0.3, random_state=42, stratify=y)"
   ]
  },
  {
   "cell_type": "code",
   "execution_count": 39,
   "id": "e2109291",
   "metadata": {},
   "outputs": [
    {
     "data": {
      "text/html": [
       "<div>\n",
       "<style scoped>\n",
       "    .dataframe tbody tr th:only-of-type {\n",
       "        vertical-align: middle;\n",
       "    }\n",
       "\n",
       "    .dataframe tbody tr th {\n",
       "        vertical-align: top;\n",
       "    }\n",
       "\n",
       "    .dataframe thead th {\n",
       "        text-align: right;\n",
       "    }\n",
       "</style>\n",
       "<table border=\"1\" class=\"dataframe\">\n",
       "  <thead>\n",
       "    <tr style=\"text-align: right;\">\n",
       "      <th></th>\n",
       "      <th>capacity_mw</th>\n",
       "      <th>latitude</th>\n",
       "      <th>longitude</th>\n",
       "      <th>source</th>\n",
       "      <th>geolocation_source</th>\n",
       "    </tr>\n",
       "  </thead>\n",
       "  <tbody>\n",
       "    <tr>\n",
       "      <th>0</th>\n",
       "      <td>-0.050280</td>\n",
       "      <td>0.484053</td>\n",
       "      <td>1.104866</td>\n",
       "      <td>-0.473551</td>\n",
       "      <td>0.405509</td>\n",
       "    </tr>\n",
       "    <tr>\n",
       "      <th>1</th>\n",
       "      <td>-0.594285</td>\n",
       "      <td>-0.532182</td>\n",
       "      <td>-0.708494</td>\n",
       "      <td>-0.496357</td>\n",
       "      <td>0.405509</td>\n",
       "    </tr>\n",
       "    <tr>\n",
       "      <th>2</th>\n",
       "      <td>-0.576736</td>\n",
       "      <td>-0.941685</td>\n",
       "      <td>-0.267961</td>\n",
       "      <td>0.279054</td>\n",
       "      <td>0.405509</td>\n",
       "    </tr>\n",
       "    <tr>\n",
       "      <th>3</th>\n",
       "      <td>-0.563940</td>\n",
       "      <td>1.424108</td>\n",
       "      <td>-0.612857</td>\n",
       "      <td>3.061414</td>\n",
       "      <td>-2.500636</td>\n",
       "    </tr>\n",
       "    <tr>\n",
       "      <th>4</th>\n",
       "      <td>-0.589532</td>\n",
       "      <td>0.995476</td>\n",
       "      <td>-1.190341</td>\n",
       "      <td>0.940435</td>\n",
       "      <td>-2.500636</td>\n",
       "    </tr>\n",
       "  </tbody>\n",
       "</table>\n",
       "</div>"
      ],
      "text/plain": [
       "   capacity_mw  latitude  longitude    source  geolocation_source\n",
       "0    -0.050280  0.484053   1.104866 -0.473551            0.405509\n",
       "1    -0.594285 -0.532182  -0.708494 -0.496357            0.405509\n",
       "2    -0.576736 -0.941685  -0.267961  0.279054            0.405509\n",
       "3    -0.563940  1.424108  -0.612857  3.061414           -2.500636\n",
       "4    -0.589532  0.995476  -1.190341  0.940435           -2.500636"
      ]
     },
     "execution_count": 39,
     "metadata": {},
     "output_type": "execute_result"
    }
   ],
   "source": [
    "# Now we will scale the data to remove variances\n",
    "from sklearn.preprocessing import StandardScaler\n",
    "scaler = StandardScaler()\n",
    "x_train = pd.DataFrame(scaler.fit_transform(x_train), columns = x_train.columns)\n",
    "x_test= pd.DataFrame(scaler.transform(x_test), columns = x_test.columns)\n",
    "x_train.head()"
   ]
  },
  {
   "cell_type": "code",
   "execution_count": 40,
   "id": "27fb88ab",
   "metadata": {},
   "outputs": [
    {
     "data": {
      "text/plain": [
       "capacity_mw           3.037191\n",
       "latitude             -0.145866\n",
       "longitude             1.112646\n",
       "primary_fuel          0.507576\n",
       "source                1.778807\n",
       "geolocation_source   -2.072165\n",
       "dtype: float64"
      ]
     },
     "execution_count": 40,
     "metadata": {},
     "output_type": "execute_result"
    }
   ],
   "source": [
    "# let's check for skewness\n",
    "df.skew()"
   ]
  },
  {
   "cell_type": "code",
   "execution_count": 41,
   "id": "60733684",
   "metadata": {},
   "outputs": [
    {
     "name": "stdout",
     "output_type": "stream",
     "text": [
      "              feature       VIF\n",
      "0         capacity_mw  1.111676\n",
      "1            latitude  1.052214\n",
      "2           longitude  1.110494\n",
      "3              source  1.412617\n",
      "4  geolocation_source  1.449656\n"
     ]
    }
   ],
   "source": [
    "# lets use vif to check for multicolinearity\n",
    "from statsmodels.stats.outliers_influence import variance_inflation_factor\n",
    "\n",
    "vif_data = pd.DataFrame()\n",
    "vif_data[\"feature\"] = x_train.columns\n",
    "  \n",
    "# calculating VIF for each feature\n",
    "vif_data[\"VIF\"] = [variance_inflation_factor(x_train.values, i)\n",
    "                          for i in range(len(x_train.columns))]\n",
    "  \n",
    "print(vif_data)"
   ]
  },
  {
   "cell_type": "markdown",
   "id": "7e84c935",
   "metadata": {},
   "source": [
    "### Now we will move ahead with model training"
   ]
  },
  {
   "cell_type": "code",
   "execution_count": 61,
   "id": "94f25b01",
   "metadata": {},
   "outputs": [],
   "source": [
    "#Creating a function within many Machine Learning Models\n",
    "def models(x_train,y_train):\n",
    "  \n",
    "    #Using Logistic Regression Algorithm to the Training Set\n",
    "    from sklearn.linear_model import LogisticRegression\n",
    "    log = LogisticRegression(multi_class='multinomial')\n",
    "    log.fit(x_train, y_train)\n",
    "\n",
    "    #Using KNeighborsClassifier Method of neighbors class to use Nearest Neighbor algorithm\n",
    "    from sklearn.neighbors import KNeighborsClassifier\n",
    "    knn = KNeighborsClassifier(n_neighbors = 5, metric = 'minkowski', p = 2)\n",
    "    knn.fit(x_train,y_train)\n",
    "\n",
    "    #Using SVC method of svm class to use Support Vector Machine Algorithm\n",
    "    from sklearn.svm import SVC\n",
    "    svc_lin = SVC(kernel = 'linear', random_state = 0)\n",
    "    svc_lin.fit(x_train, y_train)\n",
    "\n",
    "    #Using SVC method of svm class to use Kernel SVM Algorithm\n",
    "    from sklearn.svm import SVC\n",
    "    svc_rbf = SVC(kernel = 'rbf', random_state = 0)\n",
    "    svc_rbf.fit(x_train, y_train)\n",
    "\n",
    "    #Using XGBoost Algorithm\n",
    "    from sklearn.ensemble import AdaBoostClassifier\n",
    "    ada = AdaBoostClassifier()\n",
    "    ada.fit(x_train, y_train)\n",
    "\n",
    "    #Using DecisionTreeClassifier of tree class to use Decision Tree Algorithm\n",
    "    from sklearn.tree import DecisionTreeClassifier\n",
    "    tree = DecisionTreeClassifier(criterion = 'entropy', random_state = 0)\n",
    "    tree.fit(x_train, y_train)\n",
    "\n",
    "    #Using RandomForestClassifier method of ensemble class to use Random Forest Classification algorithm\n",
    "    from sklearn.ensemble import RandomForestClassifier\n",
    "    forest = RandomForestClassifier(n_estimators = 10, criterion = 'entropy', random_state = 0)\n",
    "    forest.fit(x_train, y_train)\n",
    "\n",
    "    #print model accuracy on the training data.\n",
    "    print('[0]Logistic Regression Training Accuracy:', log.score(x_train, y_train))\n",
    "    print('[1]K Nearest Neighbor Training Accuracy:', knn.score(x_train, y_train))\n",
    "    print('[2]Support Vector Machine (Linear Classifier) Training Accuracy:', svc_lin.score(x_train, y_train))\n",
    "    print('[3]Support Vector Machine (RBF Classifier) Training Accuracy:', svc_rbf.score(x_train, y_train))\n",
    "    print('[4]Ada Boost Training Accuracy:', ada.score(x_train, y_train))\n",
    "    print('[5]Decision Tree Classifier Training Accuracy:', tree.score(x_train, y_train))\n",
    "    print('[6]Random Forest Classifier Training Accuracy:', forest.score(x_train, y_train))\n",
    "\n",
    "    return log, knn, svc_lin, svc_rbf, ada, tree, forest"
   ]
  },
  {
   "cell_type": "code",
   "execution_count": 62,
   "id": "6a1c5a0b",
   "metadata": {},
   "outputs": [
    {
     "name": "stdout",
     "output_type": "stream",
     "text": [
      "[0]Logistic Regression Training Accuracy: 0.6677740863787376\n",
      "[1]K Nearest Neighbor Training Accuracy: 0.8255813953488372\n",
      "[2]Support Vector Machine (Linear Classifier) Training Accuracy: 0.6694352159468439\n",
      "[3]Support Vector Machine (RBF Classifier) Training Accuracy: 0.6843853820598007\n",
      "[4]Ada Boost Training Accuracy: 0.5465116279069767\n",
      "[5]Decision Tree Classifier Training Accuracy: 1.0\n",
      "[6]Random Forest Classifier Training Accuracy: 0.9817275747508306\n"
     ]
    }
   ],
   "source": [
    "model = models(x_train,y_train)"
   ]
  },
  {
   "cell_type": "code",
   "execution_count": 63,
   "id": "142e7fd9",
   "metadata": {},
   "outputs": [
    {
     "name": "stdout",
     "output_type": "stream",
     "text": [
      "[[11  2  0  0  0  0  0  2]\n",
      " [ 2 62  0 12  0  0  0  0]\n",
      " [ 1  6  0 12  0  0  0  1]\n",
      " [ 0  7  0 49  0  0  0 14]\n",
      " [ 0  3  0  0  0  0  0  0]\n",
      " [ 3  0  0  1  0  0  0  1]\n",
      " [ 0  0  0  0  0  0 37  0]\n",
      " [ 0  0  0  4  0  0  0 29]]\n",
      "Model[0] Testing Accuracy = \"0.7258687258687259 !\"\n",
      "[[11  2  0  1  0  0  0  1]\n",
      " [ 7 62  3  3  0  0  0  1]\n",
      " [ 1  6  4  7  0  0  0  2]\n",
      " [ 0 11  5 47  0  0  0  7]\n",
      " [ 0  3  0  0  0  0  0  0]\n",
      " [ 0  1  3  1  0  0  0  0]\n",
      " [ 0  0  0  0  0  0 37  0]\n",
      " [ 0  0  0 12  0  0  0 21]]\n",
      "Model[1] Testing Accuracy = \"0.7027027027027027 !\"\n",
      "[[11  2  0  2  0  0  0  0]\n",
      " [ 5 58  0 13  0  0  0  0]\n",
      " [ 1  7  0 11  0  0  0  1]\n",
      " [ 0  8  0 57  0  0  0  5]\n",
      " [ 0  3  0  0  0  0  0  0]\n",
      " [ 3  1  0  0  0  0  0  1]\n",
      " [ 0  0  0  0  0  0 37  0]\n",
      " [ 0  0  0 12  0  0  0 21]]\n",
      "Model[2] Testing Accuracy = \"0.7104247104247104 !\"\n",
      "[[11  2  0  2  0  0  0  0]\n",
      " [ 5 63  0  7  0  0  0  1]\n",
      " [ 1  9  0  8  0  0  0  2]\n",
      " [ 0  7  0 61  0  0  0  2]\n",
      " [ 0  3  0  0  0  0  0  0]\n",
      " [ 3  1  0  1  0  0  0  0]\n",
      " [ 0  0  0  0  0  0 37  0]\n",
      " [ 0  0  0 21  0  0  0 12]]\n",
      "Model[3] Testing Accuracy = \"0.7104247104247104 !\"\n",
      "[[ 0 15  0  0  0  0  0  0]\n",
      " [ 0 72  0  0  0  0  0  4]\n",
      " [ 0 20  0  0  0  0  0  0]\n",
      " [ 0 70  0  0  0  0  0  0]\n",
      " [ 0  3  0  0  0  0  0  0]\n",
      " [ 0  5  0  0  0  0  0  0]\n",
      " [ 0  0  0  0  0  0 37  0]\n",
      " [ 0  0  0  0  0  0  0 33]]\n",
      "Model[4] Testing Accuracy = \"0.5482625482625483 !\"\n",
      "[[13  2  0  0  0  0  0  0]\n",
      " [ 4 60  6  5  1  0  0  0]\n",
      " [ 1  9  5  3  1  1  0  0]\n",
      " [ 0  9  5 52  1  3  0  0]\n",
      " [ 0  2  1  0  0  0  0  0]\n",
      " [ 0  1  3  1  0  0  0  0]\n",
      " [ 0  0  0  0  0  0 37  0]\n",
      " [ 0  0  0  0  0  0  0 33]]\n",
      "Model[5] Testing Accuracy = \"0.7722007722007722 !\"\n",
      "[[14  1  0  0  0  0  0  0]\n",
      " [ 7 65  3  1  0  0  0  0]\n",
      " [ 1  7  5  6  1  0  0  0]\n",
      " [ 0  6  1 62  1  0  0  0]\n",
      " [ 0  2  0  1  0  0  0  0]\n",
      " [ 0  1  3  1  0  0  0  0]\n",
      " [ 0  0  0  0  0  0 37  0]\n",
      " [ 0  0  0  0  0  0  0 33]]\n",
      "Model[6] Testing Accuracy = \"0.833976833976834 !\"\n"
     ]
    }
   ],
   "source": [
    "for i in range(len(model)):\n",
    "    cm = confusion_matrix(y_test, model[i].predict(x_test)) \n",
    "    #extracting TN, FP, FN, TP\n",
    "    #TN, FP, FN, TP = confusion_matrix(y_test, model[i].predict(x_test)).ravel()\n",
    "    print(cm)\n",
    "    print('Model[{}] Testing Accuracy = \"{} !\"'.format(i, accuracy_score(y_test,model[i].predict(x_test))))\n"
   ]
  },
  {
   "cell_type": "code",
   "execution_count": 64,
   "id": "dd24cb9a",
   "metadata": {},
   "outputs": [
    {
     "name": "stdout",
     "output_type": "stream",
     "text": [
      "{'criterion': 'gini', 'max_features': 'log2', 'n_estimators': 54}\n"
     ]
    }
   ],
   "source": [
    "# Regularization Random Forest Classifier\n",
    "from sklearn.model_selection import GridSearchCV\n",
    "from sklearn.ensemble import RandomForestClassifier\n",
    "parameters = {'criterion':['gini', 'entropy', 'log_loss'],\n",
    "             'n_estimators':list(range(10,100)),\n",
    "             'max_features':['sqrt', 'log2']}\n",
    "rf = RandomForestClassifier()\n",
    "clf = GridSearchCV(rf,parameters)\n",
    "clf.fit(x_train,y_train)\n",
    "print(clf.best_params_)"
   ]
  },
  {
   "cell_type": "code",
   "execution_count": 65,
   "id": "e8ac1e7f",
   "metadata": {},
   "outputs": [
    {
     "name": "stdout",
     "output_type": "stream",
     "text": [
      "84.94208494208493\n",
      "83.50988036026348\n"
     ]
    }
   ],
   "source": [
    "rf = RandomForestClassifier(criterion='gini',max_features='log2', n_estimators=54)\n",
    "rf.fit(x_train,y_train)\n",
    "rf.score(x_train,y_train)\n",
    "pred_dec = rf.predict(x_test)\n",
    "\n",
    "rfs = accuracy_score(y_test, pred_dec)\n",
    "print(rfs*100)\n",
    "\n",
    "rfscore = cross_val_score(rf,x,y,cv=5)\n",
    "rfc = rfscore.mean()\n",
    "print(rfc*100)"
   ]
  },
  {
   "cell_type": "code",
   "execution_count": 66,
   "id": "26f35d46",
   "metadata": {},
   "outputs": [
    {
     "name": "stdout",
     "output_type": "stream",
     "text": [
      "{'fit_intercept': True, 'intercept_scaling': 1, 'penalty': 'none'}\n"
     ]
    }
   ],
   "source": [
    "# Regularization Logistic Regression\n",
    "from sklearn.linear_model import LogisticRegression\n",
    "parameters = {'fit_intercept':[True,False],\n",
    "             'intercept_scaling':list(range(1,10)),\n",
    "             'penalty':['l1', 'l2', 'elasticnet', 'none']}\n",
    "lr = LogisticRegression()\n",
    "clf = GridSearchCV(lr,parameters)\n",
    "clf.fit(x_train,y_train)\n",
    "print(clf.best_params_)"
   ]
  },
  {
   "cell_type": "code",
   "execution_count": 68,
   "id": "dcd45ec6",
   "metadata": {},
   "outputs": [
    {
     "name": "stdout",
     "output_type": "stream",
     "text": [
      "72.58687258687259\n",
      "55.75144508670521\n"
     ]
    }
   ],
   "source": [
    "lr = LogisticRegression(multi_class='multinomial',fit_intercept=1, intercept_scaling=1)\n",
    "lr.fit(x_train,y_train)\n",
    "lr.score(x_train,y_train)\n",
    "pred_dec = lr.predict(x_test)\n",
    "\n",
    "lrs = accuracy_score(y_test, pred_dec)\n",
    "print(lrs*100)\n",
    "\n",
    "lrscore = cross_val_score(lr,x,y,cv=5)\n",
    "lrc = lrscore.mean()\n",
    "print(lrc*100)"
   ]
  },
  {
   "cell_type": "code",
   "execution_count": 69,
   "id": "8e399d1f",
   "metadata": {},
   "outputs": [
    {
     "name": "stdout",
     "output_type": "stream",
     "text": [
      "{'learning_rate': 0.1, 'n_estimators': 10, 'random_state': 1}\n"
     ]
    }
   ],
   "source": [
    "# Regularization Adaboost Classifier\n",
    "from sklearn.ensemble import AdaBoostClassifier\n",
    "parameters = {'learning_rate':[0.001,0.01,0.1,1.0,10],\n",
    "             'n_estimators':[0.001,0.01, 0.1,1.0,10],\n",
    "             'random_state':list(range(1,100))}\n",
    "ab = AdaBoostClassifier()\n",
    "clf = GridSearchCV(ab,parameters)\n",
    "clf.fit(x_train,y_train)\n",
    "print(clf.best_params_)"
   ]
  },
  {
   "cell_type": "code",
   "execution_count": 70,
   "id": "2685ae92",
   "metadata": {},
   "outputs": [
    {
     "name": "stdout",
     "output_type": "stream",
     "text": [
      "63.7065637065637\n",
      "60.96316709235112\n"
     ]
    }
   ],
   "source": [
    "ab = AdaBoostClassifier(learning_rate=0.1,random_state=1,n_estimators=10)\n",
    "ab.fit(x_train,y_train)\n",
    "ab.score(x_train,y_train)\n",
    "pred_dec = ab.predict(x_test)\n",
    "\n",
    "absc = accuracy_score(y_test, pred_dec)\n",
    "print(absc*100)\n",
    "\n",
    "abscore = cross_val_score(ab,x,y,cv=5)\n",
    "abc = abscore.mean()\n",
    "print(abc*100)"
   ]
  },
  {
   "cell_type": "code",
   "execution_count": 71,
   "id": "630eb3bb",
   "metadata": {},
   "outputs": [
    {
     "name": "stdout",
     "output_type": "stream",
     "text": [
      "{'criterion': 'gini', 'min_samples_split': 5, 'splitter': 'best'}\n"
     ]
    }
   ],
   "source": [
    "# Regularization Decision Tree Classifier\n",
    "from sklearn.tree import DecisionTreeClassifier\n",
    "parameters = {'splitter':['best', 'random'],\n",
    "             'min_samples_split':list(range(1,10)),\n",
    "             'criterion':['gini', 'entropy', 'log_loss']}\n",
    "dt = DecisionTreeClassifier()\n",
    "clf = GridSearchCV(dt,parameters)\n",
    "clf.fit(x_train,y_train)\n",
    "print(clf.best_params_)"
   ]
  },
  {
   "cell_type": "code",
   "execution_count": 72,
   "id": "b5e3a2bb",
   "metadata": {},
   "outputs": [
    {
     "name": "stdout",
     "output_type": "stream",
     "text": [
      "71.04247104247105\n",
      "79.6773759913967\n"
     ]
    }
   ],
   "source": [
    "dt = DecisionTreeClassifier(criterion='gini', min_samples_split=5, splitter='best')\n",
    "dt.fit(x_train,y_train)\n",
    "dt.score(x_train,y_train)\n",
    "pred_dec = dt.predict(x_test)\n",
    "\n",
    "dtsc = accuracy_score(y_test, pred_dec)\n",
    "print(dtsc*100)\n",
    "\n",
    "dtscore = cross_val_score(dt,x,y,cv=5)\n",
    "dtc = dtscore.mean()\n",
    "print(dtc*100)"
   ]
  },
  {
   "cell_type": "code",
   "execution_count": 73,
   "id": "130e87ff",
   "metadata": {},
   "outputs": [
    {
     "name": "stdout",
     "output_type": "stream",
     "text": [
      "{'gamma': 'scale', 'kernel': 'rbf', 'random_state': 1}\n"
     ]
    }
   ],
   "source": [
    "# Regularization Support Vector Machine\n",
    "from sklearn.svm import SVC\n",
    "\n",
    "parameters = {'random_state': list(range(1,100)),\n",
    "             'kernel':['poly', 'rbf', 'sigmoid'],\n",
    "             'gamma':['scale', 'auto']}\n",
    "svc = SVC()\n",
    "clf = GridSearchCV(svc,parameters)\n",
    "clf.fit(x_train,y_train)\n",
    "print(clf.best_params_)"
   ]
  },
  {
   "cell_type": "code",
   "execution_count": 74,
   "id": "d959e4b1",
   "metadata": {},
   "outputs": [
    {
     "name": "stdout",
     "output_type": "stream",
     "text": [
      "71.04247104247105\n",
      "51.22193843258502\n"
     ]
    }
   ],
   "source": [
    "svc = SVC(gamma='scale', kernel='rbf', random_state=1)\n",
    "svc.fit(x_train,y_train)\n",
    "svc.score(x_train,y_train)\n",
    "pred_dec = svc.predict(x_test)\n",
    "\n",
    "svsc = accuracy_score(y_test, pred_dec)\n",
    "print(svsc*100)\n",
    "\n",
    "svscore = cross_val_score(svc,x,y,cv=5)\n",
    "svs = svscore.mean()\n",
    "print(svs*100)"
   ]
  },
  {
   "cell_type": "code",
   "execution_count": 75,
   "id": "4f0b0980",
   "metadata": {},
   "outputs": [
    {
     "name": "stdout",
     "output_type": "stream",
     "text": [
      "{'algorithm': 'auto', 'n_neighbors': 4, 'weights': 'distance'}\n"
     ]
    }
   ],
   "source": [
    "# Regularization K Nearest Neighbor\n",
    "from sklearn.neighbors import KNeighborsClassifier\n",
    "parameters = {'weights':['uniform', 'distance'],\n",
    "             'n_neighbors':list(range(1,10)),\n",
    "             'algorithm':['auto', 'ball_tree', 'kd_tree','brute']}\n",
    "knn = KNeighborsClassifier()\n",
    "clf = GridSearchCV(knn,parameters)\n",
    "clf.fit(x_train,y_train)\n",
    "print(clf.best_params_)"
   ]
  },
  {
   "cell_type": "code",
   "execution_count": 76,
   "id": "ebadff02",
   "metadata": {},
   "outputs": [
    {
     "name": "stdout",
     "output_type": "stream",
     "text": [
      "71.04247104247105\n",
      "63.76730743379486\n"
     ]
    }
   ],
   "source": [
    "knn = KNeighborsClassifier(algorithm='auto',n_neighbors=4, weights='distance')\n",
    "knn.fit(x_train,y_train)\n",
    "knn.score(x_train,y_train)\n",
    "pred_dec = dt.predict(x_test)\n",
    "\n",
    "knnc = accuracy_score(y_test, pred_dec)\n",
    "print(knnc*100)\n",
    "\n",
    "knnscore = cross_val_score(knn,x,y,cv=5)\n",
    "knc = knnscore.mean()\n",
    "print(knc*100)"
   ]
  },
  {
   "cell_type": "raw",
   "id": "ec981e3f",
   "metadata": {},
   "source": [
    "We can see that the random forest model performed best, we will asave it for use"
   ]
  },
  {
   "cell_type": "code",
   "execution_count": 77,
   "id": "7f707afb",
   "metadata": {},
   "outputs": [],
   "source": [
    "# saving the best model\n",
    "import pickle\n",
    "pickle.dump(rf, open('powerclass.pkl','wb'))"
   ]
  },
  {
   "cell_type": "markdown",
   "id": "9be3a703",
   "metadata": {},
   "source": [
    "### Now Let's do Regression to predict the capacity"
   ]
  },
  {
   "cell_type": "code",
   "execution_count": 78,
   "id": "551bbc43",
   "metadata": {},
   "outputs": [
    {
     "data": {
      "text/html": [
       "<div>\n",
       "<style scoped>\n",
       "    .dataframe tbody tr th:only-of-type {\n",
       "        vertical-align: middle;\n",
       "    }\n",
       "\n",
       "    .dataframe tbody tr th {\n",
       "        vertical-align: top;\n",
       "    }\n",
       "\n",
       "    .dataframe thead th {\n",
       "        text-align: right;\n",
       "    }\n",
       "</style>\n",
       "<table border=\"1\" class=\"dataframe\">\n",
       "  <thead>\n",
       "    <tr style=\"text-align: right;\">\n",
       "      <th></th>\n",
       "      <th>capacity_mw</th>\n",
       "      <th>latitude</th>\n",
       "      <th>longitude</th>\n",
       "      <th>primary_fuel</th>\n",
       "      <th>source</th>\n",
       "      <th>geolocation_source</th>\n",
       "    </tr>\n",
       "  </thead>\n",
       "  <tbody>\n",
       "    <tr>\n",
       "      <th>0</th>\n",
       "      <td>2.5</td>\n",
       "      <td>28.1839</td>\n",
       "      <td>73.2407</td>\n",
       "      <td>6</td>\n",
       "      <td>109</td>\n",
       "      <td>1</td>\n",
       "    </tr>\n",
       "    <tr>\n",
       "      <th>1</th>\n",
       "      <td>98.0</td>\n",
       "      <td>24.7663</td>\n",
       "      <td>74.6090</td>\n",
       "      <td>1</td>\n",
       "      <td>174</td>\n",
       "      <td>2</td>\n",
       "    </tr>\n",
       "    <tr>\n",
       "      <th>2</th>\n",
       "      <td>39.2</td>\n",
       "      <td>21.9038</td>\n",
       "      <td>69.3732</td>\n",
       "      <td>7</td>\n",
       "      <td>21</td>\n",
       "      <td>2</td>\n",
       "    </tr>\n",
       "    <tr>\n",
       "      <th>3</th>\n",
       "      <td>135.0</td>\n",
       "      <td>23.8712</td>\n",
       "      <td>91.3602</td>\n",
       "      <td>2</td>\n",
       "      <td>22</td>\n",
       "      <td>2</td>\n",
       "    </tr>\n",
       "    <tr>\n",
       "      <th>4</th>\n",
       "      <td>1800.0</td>\n",
       "      <td>21.9603</td>\n",
       "      <td>82.4091</td>\n",
       "      <td>1</td>\n",
       "      <td>22</td>\n",
       "      <td>2</td>\n",
       "    </tr>\n",
       "  </tbody>\n",
       "</table>\n",
       "</div>"
      ],
      "text/plain": [
       "   capacity_mw  latitude  longitude  primary_fuel  source  geolocation_source\n",
       "0          2.5   28.1839    73.2407             6     109                   1\n",
       "1         98.0   24.7663    74.6090             1     174                   2\n",
       "2         39.2   21.9038    69.3732             7      21                   2\n",
       "3        135.0   23.8712    91.3602             2      22                   2\n",
       "4       1800.0   21.9603    82.4091             1      22                   2"
      ]
     },
     "execution_count": 78,
     "metadata": {},
     "output_type": "execute_result"
    }
   ],
   "source": [
    "df1.head()"
   ]
  },
  {
   "cell_type": "code",
   "execution_count": 92,
   "id": "ee896c06",
   "metadata": {},
   "outputs": [],
   "source": [
    "# separating features\n",
    "x = df1.drop('capacity_mw', axis=1)\n",
    "y = df1['capacity_mw']\n",
    "x_train, x_test, y_train, y_test = train_test_split(x, y, test_size=0.3, random_state=42)"
   ]
  },
  {
   "cell_type": "code",
   "execution_count": 93,
   "id": "070783f8",
   "metadata": {},
   "outputs": [
    {
     "data": {
      "text/html": [
       "<div>\n",
       "<style scoped>\n",
       "    .dataframe tbody tr th:only-of-type {\n",
       "        vertical-align: middle;\n",
       "    }\n",
       "\n",
       "    .dataframe tbody tr th {\n",
       "        vertical-align: top;\n",
       "    }\n",
       "\n",
       "    .dataframe thead th {\n",
       "        text-align: right;\n",
       "    }\n",
       "</style>\n",
       "<table border=\"1\" class=\"dataframe\">\n",
       "  <thead>\n",
       "    <tr style=\"text-align: right;\">\n",
       "      <th></th>\n",
       "      <th>latitude</th>\n",
       "      <th>longitude</th>\n",
       "      <th>primary_fuel</th>\n",
       "      <th>source</th>\n",
       "      <th>geolocation_source</th>\n",
       "    </tr>\n",
       "  </thead>\n",
       "  <tbody>\n",
       "    <tr>\n",
       "      <th>0</th>\n",
       "      <td>0.364268</td>\n",
       "      <td>2.831195</td>\n",
       "      <td>-0.499988</td>\n",
       "      <td>-0.509200</td>\n",
       "      <td>0.417224</td>\n",
       "    </tr>\n",
       "    <tr>\n",
       "      <th>1</th>\n",
       "      <td>-0.236740</td>\n",
       "      <td>-0.146344</td>\n",
       "      <td>-0.059940</td>\n",
       "      <td>-0.509200</td>\n",
       "      <td>0.417224</td>\n",
       "    </tr>\n",
       "    <tr>\n",
       "      <th>2</th>\n",
       "      <td>0.400571</td>\n",
       "      <td>-1.773987</td>\n",
       "      <td>-0.940035</td>\n",
       "      <td>-0.509200</td>\n",
       "      <td>0.417224</td>\n",
       "    </tr>\n",
       "    <tr>\n",
       "      <th>3</th>\n",
       "      <td>-0.428892</td>\n",
       "      <td>-0.921700</td>\n",
       "      <td>0.820155</td>\n",
       "      <td>0.695449</td>\n",
       "      <td>0.417224</td>\n",
       "    </tr>\n",
       "    <tr>\n",
       "      <th>4</th>\n",
       "      <td>0.198398</td>\n",
       "      <td>1.073217</td>\n",
       "      <td>-0.940035</td>\n",
       "      <td>-0.509200</td>\n",
       "      <td>0.417224</td>\n",
       "    </tr>\n",
       "  </tbody>\n",
       "</table>\n",
       "</div>"
      ],
      "text/plain": [
       "   latitude  longitude  primary_fuel    source  geolocation_source\n",
       "0  0.364268   2.831195     -0.499988 -0.509200            0.417224\n",
       "1 -0.236740  -0.146344     -0.059940 -0.509200            0.417224\n",
       "2  0.400571  -1.773987     -0.940035 -0.509200            0.417224\n",
       "3 -0.428892  -0.921700      0.820155  0.695449            0.417224\n",
       "4  0.198398   1.073217     -0.940035 -0.509200            0.417224"
      ]
     },
     "execution_count": 93,
     "metadata": {},
     "output_type": "execute_result"
    }
   ],
   "source": [
    "# Now we will scale the data to remove variances\n",
    "from sklearn.preprocessing import StandardScaler\n",
    "scaler = StandardScaler()\n",
    "x_train = pd.DataFrame(scaler.fit_transform(x_train), columns = x_train.columns)\n",
    "x_test= pd.DataFrame(scaler.transform(x_test), columns = x_test.columns)\n",
    "x_train.head()"
   ]
  },
  {
   "cell_type": "code",
   "execution_count": 94,
   "id": "88f8411a",
   "metadata": {},
   "outputs": [
    {
     "name": "stdout",
     "output_type": "stream",
     "text": [
      "At random state 0, the training accuracy is: 0.20521604769056867\n",
      "At random state 0, the testing accuracy is: 0.25165295543039135\n",
      "\n",
      "\n",
      "At random state 1, the training accuracy is: 0.2159576621286896\n",
      "At random state 1, the testing accuracy is: 0.19471300158163996\n",
      "\n",
      "\n",
      "At random state 2, the training accuracy is: 0.21251743397885448\n",
      "At random state 2, the testing accuracy is: 0.2122997487920243\n",
      "\n",
      "\n",
      "At random state 3, the training accuracy is: 0.22499378495051803\n",
      "At random state 3, the testing accuracy is: 0.17501591193317856\n",
      "\n",
      "\n",
      "At random state 4, the training accuracy is: 0.2275818119766171\n",
      "At random state 4, the testing accuracy is: 0.15471027405326754\n",
      "\n",
      "\n",
      "At random state 5, the training accuracy is: 0.21917377501576185\n",
      "At random state 5, the testing accuracy is: 0.19111128694031376\n",
      "\n",
      "\n",
      "At random state 6, the training accuracy is: 0.21513434213056182\n",
      "At random state 6, the testing accuracy is: 0.19477675435486408\n",
      "\n",
      "\n",
      "At random state 7, the training accuracy is: 0.2312339397918648\n",
      "At random state 7, the testing accuracy is: 0.13821492723646467\n",
      "\n",
      "\n",
      "At random state 8, the training accuracy is: 0.23046078993805263\n",
      "At random state 8, the testing accuracy is: 0.14654780502085674\n",
      "\n",
      "\n",
      "At random state 9, the training accuracy is: 0.20902753134843022\n",
      "At random state 9, the testing accuracy is: 0.22871909765785758\n",
      "\n",
      "\n",
      "At random state 10, the training accuracy is: 0.20746045690158454\n",
      "At random state 10, the testing accuracy is: 0.21389025808983764\n",
      "\n",
      "\n",
      "At random state 11, the training accuracy is: 0.21043257986687947\n",
      "At random state 11, the testing accuracy is: 0.22288906326974556\n",
      "\n",
      "\n",
      "At random state 12, the training accuracy is: 0.204896466284891\n",
      "At random state 12, the testing accuracy is: 0.2578223386118982\n",
      "\n",
      "\n",
      "At random state 13, the training accuracy is: 0.21652459662596124\n",
      "At random state 13, the testing accuracy is: 0.19037301654372474\n",
      "\n",
      "\n",
      "At random state 14, the training accuracy is: 0.2094007559546872\n",
      "At random state 14, the testing accuracy is: 0.2247960547688559\n",
      "\n",
      "\n",
      "At random state 15, the training accuracy is: 0.23778577906264808\n",
      "At random state 15, the testing accuracy is: 0.15212403882979353\n",
      "\n",
      "\n",
      "At random state 16, the training accuracy is: 0.22132686186576822\n",
      "At random state 16, the testing accuracy is: 0.16514086278731177\n",
      "\n",
      "\n",
      "At random state 17, the training accuracy is: 0.201112489825931\n",
      "At random state 17, the testing accuracy is: 0.22624516621749502\n",
      "\n",
      "\n",
      "At random state 18, the training accuracy is: 0.2147064958728495\n",
      "At random state 18, the testing accuracy is: 0.19546396563247237\n",
      "\n",
      "\n",
      "At random state 19, the training accuracy is: 0.20588306352034014\n",
      "At random state 19, the testing accuracy is: 0.21440418078957968\n",
      "\n",
      "\n",
      "At random state 20, the training accuracy is: 0.21788061007963\n",
      "At random state 20, the testing accuracy is: 0.19163112512440506\n",
      "\n",
      "\n",
      "At random state 21, the training accuracy is: 0.21883197875098348\n",
      "At random state 21, the testing accuracy is: 0.1938415527858064\n",
      "\n",
      "\n",
      "At random state 22, the training accuracy is: 0.21710582849226057\n",
      "At random state 22, the testing accuracy is: 0.18635799228458927\n",
      "\n",
      "\n",
      "At random state 23, the training accuracy is: 0.21595163618926827\n",
      "At random state 23, the testing accuracy is: 0.1593678429946942\n",
      "\n",
      "\n",
      "At random state 24, the training accuracy is: 0.21972225974514226\n",
      "At random state 24, the testing accuracy is: 0.17041815757013434\n",
      "\n",
      "\n",
      "At random state 25, the training accuracy is: 0.21507350767100097\n",
      "At random state 25, the testing accuracy is: 0.20431203827541933\n",
      "\n",
      "\n",
      "At random state 26, the training accuracy is: 0.2067037324270824\n",
      "At random state 26, the testing accuracy is: 0.2110184470221813\n",
      "\n",
      "\n",
      "At random state 27, the training accuracy is: 0.2222508625938575\n",
      "At random state 27, the testing accuracy is: 0.16465924177940405\n",
      "\n",
      "\n",
      "At random state 28, the training accuracy is: 0.2252938081344189\n",
      "At random state 28, the testing accuracy is: 0.14381113466208262\n",
      "\n",
      "\n",
      "At random state 29, the training accuracy is: 0.19434081560996597\n",
      "At random state 29, the testing accuracy is: 0.21634277411122438\n",
      "\n",
      "\n",
      "At random state 30, the training accuracy is: 0.21703350650021547\n",
      "At random state 30, the testing accuracy is: 0.19689688813435557\n",
      "\n",
      "\n",
      "At random state 31, the training accuracy is: 0.2063221313181457\n",
      "At random state 31, the testing accuracy is: 0.2306065378089326\n",
      "\n",
      "\n",
      "At random state 32, the training accuracy is: 0.20567954860726578\n",
      "At random state 32, the testing accuracy is: 0.24949874947121842\n",
      "\n",
      "\n",
      "At random state 33, the training accuracy is: 0.20290149110611544\n",
      "At random state 33, the testing accuracy is: 0.27449224853004606\n",
      "\n",
      "\n",
      "At random state 34, the training accuracy is: 0.21689023050962564\n",
      "At random state 34, the testing accuracy is: 0.1846762118899109\n",
      "\n",
      "\n",
      "At random state 35, the training accuracy is: 0.21302024414422893\n",
      "At random state 35, the testing accuracy is: 0.20244453151786101\n",
      "\n",
      "\n",
      "At random state 36, the training accuracy is: 0.20451919858509748\n",
      "At random state 36, the testing accuracy is: 0.23561277813732684\n",
      "\n",
      "\n",
      "At random state 37, the training accuracy is: 0.20829101693147178\n",
      "At random state 37, the testing accuracy is: 0.23617282359540104\n",
      "\n",
      "\n",
      "At random state 38, the training accuracy is: 0.22007995486917098\n",
      "At random state 38, the testing accuracy is: 0.1710067179112046\n",
      "\n",
      "\n",
      "At random state 39, the training accuracy is: 0.22982464384840573\n",
      "At random state 39, the testing accuracy is: 0.16413351226970385\n",
      "\n",
      "\n",
      "At random state 40, the training accuracy is: 0.20424792223170385\n",
      "At random state 40, the testing accuracy is: 0.22539784844958954\n",
      "\n",
      "\n",
      "At random state 41, the training accuracy is: 0.22283492169761043\n",
      "At random state 41, the testing accuracy is: 0.16292615342968275\n",
      "\n",
      "\n",
      "At random state 42, the training accuracy is: 0.21379564865783973\n",
      "At random state 42, the testing accuracy is: 0.19452086347476838\n",
      "\n",
      "\n",
      "At random state 43, the training accuracy is: 0.19855184824834182\n",
      "At random state 43, the testing accuracy is: 0.23329573483675747\n",
      "\n",
      "\n",
      "At random state 44, the training accuracy is: 0.21148577314135908\n",
      "At random state 44, the testing accuracy is: 0.2158630976072472\n",
      "\n",
      "\n",
      "At random state 45, the training accuracy is: 0.20648750189131426\n",
      "At random state 45, the testing accuracy is: 0.2428561211311857\n",
      "\n",
      "\n",
      "At random state 46, the training accuracy is: 0.20760698150068546\n",
      "At random state 46, the testing accuracy is: 0.23103417459021247\n",
      "\n",
      "\n",
      "At random state 47, the training accuracy is: 0.22575676176865844\n",
      "At random state 47, the testing accuracy is: -0.06614500411724622\n",
      "\n",
      "\n",
      "At random state 48, the training accuracy is: 0.21941051556587443\n",
      "At random state 48, the testing accuracy is: 0.15798999693118765\n",
      "\n",
      "\n",
      "At random state 49, the training accuracy is: 0.2055220246293209\n",
      "At random state 49, the testing accuracy is: 0.24625340751516545\n",
      "\n",
      "\n",
      "At random state 50, the training accuracy is: 0.23352075679126483\n",
      "At random state 50, the testing accuracy is: 0.10824398784366074\n",
      "\n",
      "\n",
      "At random state 51, the training accuracy is: 0.21607225860949708\n",
      "At random state 51, the testing accuracy is: 0.20154862259908002\n",
      "\n",
      "\n",
      "At random state 52, the training accuracy is: 0.222639528484751\n",
      "At random state 52, the testing accuracy is: 0.17892531219690044\n",
      "\n",
      "\n",
      "At random state 53, the training accuracy is: 0.2057262515371261\n",
      "At random state 53, the testing accuracy is: 0.23473537475549455\n",
      "\n",
      "\n",
      "At random state 54, the training accuracy is: 0.21737591414871205\n",
      "At random state 54, the testing accuracy is: 0.1920846174495432\n",
      "\n",
      "\n",
      "At random state 55, the training accuracy is: 0.20470124605942797\n",
      "At random state 55, the testing accuracy is: 0.24316208993552335\n",
      "\n",
      "\n",
      "At random state 56, the training accuracy is: 0.22496120283825538\n",
      "At random state 56, the testing accuracy is: 0.14288595447415964\n",
      "\n",
      "\n",
      "At random state 57, the training accuracy is: 0.20104037345416337\n",
      "At random state 57, the testing accuracy is: 0.2684171726239237\n",
      "\n",
      "\n",
      "At random state 58, the training accuracy is: 0.2170716426419379\n",
      "At random state 58, the testing accuracy is: 0.18724111735022686\n",
      "\n",
      "\n",
      "At random state 59, the training accuracy is: 0.22219104428570213\n",
      "At random state 59, the testing accuracy is: 0.17310541591995154\n",
      "\n",
      "\n",
      "At random state 60, the training accuracy is: 0.22475100661563285\n",
      "At random state 60, the testing accuracy is: 0.16591060247225453\n",
      "\n",
      "\n",
      "At random state 61, the training accuracy is: 0.22029181200039016\n",
      "At random state 61, the testing accuracy is: 0.1846631623558882\n",
      "\n",
      "\n",
      "At random state 62, the training accuracy is: 0.1982616121693609\n",
      "At random state 62, the testing accuracy is: 0.3027850483121822\n",
      "\n",
      "\n",
      "At random state 63, the training accuracy is: 0.21137062708064835\n",
      "At random state 63, the testing accuracy is: 0.21321531238630043\n",
      "\n",
      "\n",
      "At random state 64, the training accuracy is: 0.21003084404177408\n",
      "At random state 64, the testing accuracy is: 0.21793258940481153\n",
      "\n",
      "\n",
      "At random state 65, the training accuracy is: 0.2240712349397872\n",
      "At random state 65, the testing accuracy is: 0.17268896040821635\n",
      "\n",
      "\n"
     ]
    },
    {
     "name": "stdout",
     "output_type": "stream",
     "text": [
      "At random state 66, the training accuracy is: 0.21442589516637545\n",
      "At random state 66, the testing accuracy is: 0.20430771361579003\n",
      "\n",
      "\n",
      "At random state 67, the training accuracy is: 0.20837000835089603\n",
      "At random state 67, the testing accuracy is: 0.22701841660765976\n",
      "\n",
      "\n",
      "At random state 68, the training accuracy is: 0.21561472363259881\n",
      "At random state 68, the testing accuracy is: 0.19912513614694038\n",
      "\n",
      "\n",
      "At random state 69, the training accuracy is: 0.23494148692311456\n",
      "At random state 69, the testing accuracy is: 0.12192034756116632\n",
      "\n",
      "\n",
      "At random state 70, the training accuracy is: 0.22046220451408238\n",
      "At random state 70, the testing accuracy is: 0.18220132724662574\n",
      "\n",
      "\n",
      "At random state 71, the training accuracy is: 0.20740766230856722\n",
      "At random state 71, the testing accuracy is: 0.2341734985227334\n",
      "\n",
      "\n",
      "At random state 72, the training accuracy is: 0.21414700516192586\n",
      "At random state 72, the testing accuracy is: 0.2014646546628195\n",
      "\n",
      "\n",
      "At random state 73, the training accuracy is: 0.20516914383034213\n",
      "At random state 73, the testing accuracy is: 0.22743092827666955\n",
      "\n",
      "\n",
      "At random state 74, the training accuracy is: 0.22858589903867776\n",
      "At random state 74, the testing accuracy is: 0.01563479165126025\n",
      "\n",
      "\n",
      "At random state 75, the training accuracy is: 0.21984065100268757\n",
      "At random state 75, the testing accuracy is: 0.1939585142227881\n",
      "\n",
      "\n",
      "At random state 76, the training accuracy is: 0.20429804227372195\n",
      "At random state 76, the testing accuracy is: 0.2539846195435588\n",
      "\n",
      "\n",
      "At random state 77, the training accuracy is: 0.21161884393047314\n",
      "At random state 77, the testing accuracy is: 0.2178010852100043\n",
      "\n",
      "\n",
      "At random state 78, the training accuracy is: 0.2214171805355135\n",
      "At random state 78, the testing accuracy is: 0.16496594508635054\n",
      "\n",
      "\n",
      "At random state 79, the training accuracy is: 0.22285073231043095\n",
      "At random state 79, the testing accuracy is: 0.17004965672347794\n",
      "\n",
      "\n",
      "At random state 80, the training accuracy is: 0.20890329311819456\n",
      "At random state 80, the testing accuracy is: 0.22561656423481735\n",
      "\n",
      "\n",
      "At random state 81, the training accuracy is: 0.214328622921252\n",
      "At random state 81, the testing accuracy is: 0.11760955833175879\n",
      "\n",
      "\n",
      "At random state 82, the training accuracy is: 0.20082927389623817\n",
      "At random state 82, the testing accuracy is: 0.2707098529445743\n",
      "\n",
      "\n",
      "At random state 83, the training accuracy is: 0.20889362816192436\n",
      "At random state 83, the testing accuracy is: 0.22938278009976532\n",
      "\n",
      "\n",
      "At random state 84, the training accuracy is: 0.2229724834592266\n",
      "At random state 84, the testing accuracy is: 0.17759630627305523\n",
      "\n",
      "\n",
      "At random state 85, the training accuracy is: 0.21762273720397862\n",
      "At random state 85, the testing accuracy is: 0.1660471402745597\n",
      "\n",
      "\n",
      "At random state 86, the training accuracy is: 0.21862829776900605\n",
      "At random state 86, the testing accuracy is: 0.15384289862745604\n",
      "\n",
      "\n",
      "At random state 87, the training accuracy is: 0.20687320774209284\n",
      "At random state 87, the testing accuracy is: 0.23759332875951822\n",
      "\n",
      "\n",
      "At random state 88, the training accuracy is: 0.2106246491220456\n",
      "At random state 88, the testing accuracy is: 0.22239587535819683\n",
      "\n",
      "\n",
      "At random state 89, the training accuracy is: 0.21934218955610252\n",
      "At random state 89, the testing accuracy is: 0.15397084669417105\n",
      "\n",
      "\n",
      "At random state 90, the training accuracy is: 0.22339727067607418\n",
      "At random state 90, the testing accuracy is: 0.18043538203709175\n",
      "\n",
      "\n",
      "At random state 91, the training accuracy is: 0.20392327516655095\n",
      "At random state 91, the testing accuracy is: 0.2580940016336437\n",
      "\n",
      "\n",
      "At random state 92, the training accuracy is: 0.205545872492373\n",
      "At random state 92, the testing accuracy is: 0.22683460934869193\n",
      "\n",
      "\n",
      "At random state 93, the training accuracy is: 0.23280149012673135\n",
      "At random state 93, the testing accuracy is: 0.13661695527298912\n",
      "\n",
      "\n",
      "At random state 94, the training accuracy is: 0.221579544757726\n",
      "At random state 94, the testing accuracy is: 0.16432136840699574\n",
      "\n",
      "\n",
      "At random state 95, the training accuracy is: 0.21840042960924155\n",
      "At random state 95, the testing accuracy is: 0.06233347736352446\n",
      "\n",
      "\n",
      "At random state 96, the training accuracy is: 0.2159302091671128\n",
      "At random state 96, the testing accuracy is: 0.18828170429656466\n",
      "\n",
      "\n",
      "At random state 97, the training accuracy is: 0.21825591908462372\n",
      "At random state 97, the testing accuracy is: 0.13650642000967528\n",
      "\n",
      "\n",
      "At random state 98, the training accuracy is: 0.20444776059203595\n",
      "At random state 98, the testing accuracy is: 0.250203649079061\n",
      "\n",
      "\n",
      "At random state 99, the training accuracy is: 0.2194639184097218\n",
      "At random state 99, the testing accuracy is: 0.19113592367193188\n",
      "\n",
      "\n"
     ]
    }
   ],
   "source": [
    "lr = LinearRegression()\n",
    "for i in range(0,100):\n",
    "    x_train, x_test, y_train, y_test = train_test_split(x,y, test_size=0.2, random_state=i)\n",
    "    lr.fit(x_train,y_train)\n",
    "    pred_train = lr.predict(x_train)\n",
    "    pred_test = lr.predict(x_test)\n",
    "    print(f\"At random state {i}, the training accuracy is: {r2_score(y_train,pred_train)}\")\n",
    "    print(f\"At random state {i}, the testing accuracy is: {r2_score(y_test,pred_test)}\")\n",
    "    print('\\n')"
   ]
  },
  {
   "cell_type": "code",
   "execution_count": 95,
   "id": "842af7c8",
   "metadata": {},
   "outputs": [
    {
     "data": {
      "image/png": "[encoded data removed]",
      "text/plain": [
       "<Figure size 576x432 with 1 Axes>"
      ]
     },
     "metadata": {
      "needs_background": "light"
     },
     "output_type": "display_data"
    }
   ],
   "source": [
    "pred_test = lr.predict(x_test)\n",
    "plt.figure(figsize=(8,6))\n",
    "plt.scatter(x=y_test, y=pred_test, color='b')\n",
    "plt.plot(y_test,y_test, color='r')\n",
    "plt.title('Linear Regression')\n",
    "plt.xlabel('Actual Capacity')\n",
    "plt.ylabel('Predicted Capacity')\n",
    "plt.show()"
   ]
  },
  {
   "cell_type": "code",
   "execution_count": 96,
   "id": "4ac8b6de",
   "metadata": {},
   "outputs": [],
   "source": [
    "x_train, x_test, y_train, y_test = train_test_split(x,y, test_size=0.2, random_state=98)"
   ]
  },
  {
   "cell_type": "code",
   "execution_count": 97,
   "id": "c2d2d24f",
   "metadata": {},
   "outputs": [],
   "source": [
    "#Create a function within many Machine Learning Models\n",
    "def models(x_train,y_train):\n",
    "  \n",
    "    #Using Linear Regression Algorithm to the Training Set\n",
    "    from sklearn.linear_model import LinearRegression\n",
    "    log = LinearRegression()\n",
    "    log.fit(x_train, y_train)\n",
    "\n",
    "    #Using AdaBoostRegressor \n",
    "    from sklearn.ensemble import AdaBoostRegressor\n",
    "    adb = AdaBoostRegressor()\n",
    "    adb.fit(x_train, y_train)\n",
    "\n",
    "    #Using KNNieghborsRegressor Method of neighbors class to use Nearest Neighbor algorithm\n",
    "    from sklearn.neighbors import KNeighborsRegressor\n",
    "    knr = KNeighborsRegressor()\n",
    "    knr.fit(x_train, y_train)\n",
    "\n",
    "    # Gradient Boost Regressor\n",
    "    from sklearn.ensemble import GradientBoostingRegressor\n",
    "    gbr = GradientBoostingRegressor()\n",
    "    gbr.fit(x_train, y_train)\n",
    "\n",
    "    # Using Gaussian Regressor method of naïve_bayes class to use Naïve Bayes Algorithm\n",
    "    from sklearn.gaussian_process import GaussianProcessRegressor\n",
    "    gauss = GaussianProcessRegressor()\n",
    "    gauss.fit(x_train, y_train)\n",
    "\n",
    "    #Using DecisionTreeRegressor of tree class to use Decision Tree Algorithm\n",
    "    from sklearn.tree import DecisionTreeRegressor\n",
    "    tree = DecisionTreeRegressor()\n",
    "    tree.fit(x_train, y_train)\n",
    "\n",
    "    #Using RandomForestClassifier method of ensemble class to use Random Forest Classification algorithm\n",
    "    from sklearn.ensemble import RandomForestRegressor\n",
    "    forest = RandomForestRegressor()\n",
    "    forest.fit(x_train, y_train)\n",
    "\n",
    "    #print model accuracy on the training data.\n",
    "    print('[0]Linear Regression Training Accuracy:', log.score(x_train, y_train))\n",
    "    print('[1]AdaBoost Regressor Training Accuracy:', adb.score(x_train, y_train))\n",
    "    print('[2]KNieghborsRegressor Training Accuracy:', knr.score(x_train, y_train))\n",
    "    print('[3]Gradient Boosting Regressor Training Accuracy:', gbr.score(x_train, y_train))\n",
    "    print('[4]Gaussian Regressor Training Accuracy:', gauss.score(x_train, y_train))\n",
    "    print('[5]Decision Tree Regressor Training Accuracy:', tree.score(x_train, y_train))\n",
    "    print('[6]Random Forest Regressor Training Accuracy:', forest.score(x_train, y_train))\n",
    "\n",
    "    return log, adb, knr, gbr, gauss, tree, forest"
   ]
  },
  {
   "cell_type": "code",
   "execution_count": 98,
   "id": "8cf36d23",
   "metadata": {},
   "outputs": [
    {
     "name": "stdout",
     "output_type": "stream",
     "text": [
      "[0]Linear Regression Training Accuracy: 0.20444776059203595\n",
      "[1]AdaBoost Regressor Training Accuracy: 0.4990070191967587\n",
      "[2]KNieghborsRegressor Training Accuracy: 0.57560706668835\n",
      "[3]Gradient Boosting Regressor Training Accuracy: 0.7536901077901155\n",
      "[4]Gaussian Regressor Training Accuracy: 0.9945421979488972\n",
      "[5]Decision Tree Regressor Training Accuracy: 0.9951232780235466\n",
      "[6]Random Forest Regressor Training Accuracy: 0.9292698392521805\n"
     ]
    }
   ],
   "source": [
    "model = models(x_train,y_train)"
   ]
  },
  {
   "cell_type": "code",
   "execution_count": 99,
   "id": "c5b1b057",
   "metadata": {},
   "outputs": [
    {
     "name": "stdout",
     "output_type": "stream",
     "text": [
      "Model[0] Testing Accuracy = \"0.250203649079061 !\"\n",
      "\n",
      "Model[1] Testing Accuracy = \"0.4069225254828711 !\"\n",
      "\n",
      "Model[2] Testing Accuracy = \"0.26165872250100664 !\"\n",
      "\n",
      "Model[3] Testing Accuracy = \"0.48865283567341944 !\"\n",
      "\n",
      "Model[4] Testing Accuracy = \"-71879.96145116739 !\"\n",
      "\n",
      "Model[5] Testing Accuracy = \"-0.030660080670494416 !\"\n",
      "\n",
      "Model[6] Testing Accuracy = \"0.34205013363986947 !\"\n",
      "\n"
     ]
    }
   ],
   "source": [
    "for i in range(len(model)):\n",
    "    accuracy = model[i].score(x_test,y_test)\n",
    "    \n",
    "    print('Model[{}] Testing Accuracy = \"{} !\"'.format(i, accuracy))\n",
    "    print()"
   ]
  },
  {
   "cell_type": "code",
   "execution_count": 100,
   "id": "528fc550",
   "metadata": {},
   "outputs": [
    {
     "name": "stdout",
     "output_type": "stream",
     "text": [
      "{'criterion': 'mae', 'max_features': 'auto', 'n_estimators': 68}\n"
     ]
    }
   ],
   "source": [
    "# Regularization Random Forest Regressor\n",
    "from sklearn.model_selection import GridSearchCV\n",
    "from sklearn.ensemble import RandomForestRegressor\n",
    "parameters = {'criterion':['mae', 'poisson'],\n",
    "             'n_estimators':list(range(10,100)),\n",
    "             'max_features':['auto', 'sqrt', 'log2']}\n",
    "rfr = RandomForestRegressor()\n",
    "clf = GridSearchCV(rfr,parameters)\n",
    "clf.fit(x_train,y_train)\n",
    "print(clf.best_params_)"
   ]
  },
  {
   "cell_type": "code",
   "execution_count": 105,
   "id": "8f832510",
   "metadata": {},
   "outputs": [
    {
     "name": "stdout",
     "output_type": "stream",
     "text": [
      "33.08813905731007\n",
      "42.54152065777322\n"
     ]
    }
   ],
   "source": [
    "rfr = RandomForestRegressor(criterion='mae',max_features='auto', n_estimators=68)\n",
    "rfr.fit(x_train,y_train)\n",
    "rfr.score(x_train,y_train)\n",
    "pred_dec = rfr.predict(x_test)\n",
    "\n",
    "rfs = r2_score(y_test, pred_dec)\n",
    "print(rfs*100)\n",
    "\n",
    "rfscore = cross_val_score(rfr,x,y,cv=5)\n",
    "rfc = rfscore.mean()\n",
    "print(rfc*100)"
   ]
  },
  {
   "cell_type": "code",
   "execution_count": 101,
   "id": "c8b1cbd3",
   "metadata": {},
   "outputs": [
    {
     "name": "stdout",
     "output_type": "stream",
     "text": [
      "{'fit_intercept': True, 'n_jobs': 1, 'normalize': True}\n"
     ]
    }
   ],
   "source": [
    "# Regularization Linear Regression\n",
    "from sklearn.linear_model import LinearRegression\n",
    "parameters = {'fit_intercept':[True,False],\n",
    "             'normalize':[True,False],\n",
    "             'n_jobs':[1,-1]}\n",
    "lr = LinearRegression()\n",
    "clf = GridSearchCV(lr,parameters)\n",
    "clf.fit(x_train,y_train)\n",
    "print(clf.best_params_)"
   ]
  },
  {
   "cell_type": "code",
   "execution_count": 106,
   "id": "0f892250",
   "metadata": {},
   "outputs": [
    {
     "name": "stdout",
     "output_type": "stream",
     "text": [
      "25.020364907906135\n",
      "17.77588666086883\n"
     ]
    }
   ],
   "source": [
    "lr = LinearRegression(fit_intercept:=True, n_jobs=1, normalize=True)\n",
    "lr.fit(x_train,y_train)\n",
    "lr.score(x_train,y_train)\n",
    "pred_dec = lr.predict(x_test)\n",
    "\n",
    "lrs = r2_score(y_test, pred_dec)\n",
    "print(lrs*100)\n",
    "\n",
    "lrscore = cross_val_score(lr,x,y,cv=5)\n",
    "lrc = lrscore.mean()\n",
    "print(lrc*100)"
   ]
  },
  {
   "cell_type": "code",
   "execution_count": 102,
   "id": "7eef3f90",
   "metadata": {},
   "outputs": [
    {
     "name": "stdout",
     "output_type": "stream",
     "text": [
      "{'loss': 'exponential', 'n_estimators': 10, 'random_state': 2}\n"
     ]
    }
   ],
   "source": [
    "# Regularization Adaboost Regressor\n",
    "from sklearn.ensemble import AdaBoostRegressor\n",
    "parameters = {'loss':['linear','exponential','square'],\n",
    "             'n_estimators':list(range(10,100)),\n",
    "             'random_state':list(range(0,10))}\n",
    "abr = AdaBoostRegressor()\n",
    "clf = GridSearchCV(abr,parameters)\n",
    "clf.fit(x_train,y_train)\n",
    "print(clf.best_params_)"
   ]
  },
  {
   "cell_type": "code",
   "execution_count": 107,
   "id": "b9bb16dc",
   "metadata": {},
   "outputs": [
    {
     "name": "stdout",
     "output_type": "stream",
     "text": [
      "48.247842412060116\n",
      "30.68556921678966\n"
     ]
    }
   ],
   "source": [
    "abr = AdaBoostRegressor(loss='exponential',random_state=2,n_estimators=10)\n",
    "abr.fit(x_train,y_train)\n",
    "abr.score(x_train,y_train)\n",
    "pred_dec = abr.predict(x_test)\n",
    "\n",
    "absc = r2_score(y_test, pred_dec)\n",
    "print(absc*100)\n",
    "\n",
    "abscore = cross_val_score(abr,x,y,cv=5)\n",
    "abc = abscore.mean()\n",
    "print(abc*100)"
   ]
  },
  {
   "cell_type": "code",
   "execution_count": 103,
   "id": "99f413ac",
   "metadata": {},
   "outputs": [
    {
     "name": "stdout",
     "output_type": "stream",
     "text": [
      "{'criterion': 'friedman_mse', 'n_estimators': 39}\n"
     ]
    }
   ],
   "source": [
    "# Regularization Gradient Boosting Regressor\n",
    "from sklearn.ensemble import GradientBoostingRegressor\n",
    "parameters = {'n_estimators':list(range(10,100)),\n",
    "             'criterion':['squared_error','mse', 'friedman_mse']}\n",
    "gbr = GradientBoostingRegressor()\n",
    "clf = GridSearchCV(gbr,parameters)\n",
    "clf.fit(x_train,y_train)\n",
    "print(clf.best_params_)"
   ]
  },
  {
   "cell_type": "code",
   "execution_count": 108,
   "id": "3050c20e",
   "metadata": {},
   "outputs": [
    {
     "name": "stdout",
     "output_type": "stream",
     "text": [
      "48.247842412060116\n",
      "43.66607043234478\n"
     ]
    }
   ],
   "source": [
    "gbr = GradientBoostingRegressor(criterion='friedman_mse', n_estimators=39)\n",
    "gbr.fit(x_train,y_train)\n",
    "gbr.score(x_train,y_train)\n",
    "pred_dec = gbr.predict(x_test)\n",
    "\n",
    "gbsc = r2_score(y_test, pred_dec)\n",
    "print(absc*100)\n",
    "\n",
    "gbscore = cross_val_score(gbr,x,y,cv=5)\n",
    "gbc = gbscore.mean()\n",
    "print(gbc*100)"
   ]
  },
  {
   "cell_type": "code",
   "execution_count": 109,
   "id": "023124a3",
   "metadata": {},
   "outputs": [
    {
     "name": "stdout",
     "output_type": "stream",
     "text": [
      "{'criterion': 'friedman_mse', 'min_samples_split': 7, 'splitter': 'random'}\n"
     ]
    }
   ],
   "source": [
    "# Regularization Decision Tree Regressor\n",
    "from sklearn.tree import DecisionTreeRegressor\n",
    "parameters = {'splitter':['best', 'random'],\n",
    "             'min_samples_split':list(range(1,10)),\n",
    "             'criterion':['squared_error','poisson', 'friedman_mse','absolute_error']}\n",
    "dtr = DecisionTreeRegressor()\n",
    "clf = GridSearchCV(dtr,parameters)\n",
    "clf.fit(x_train,y_train)\n",
    "print(clf.best_params_)"
   ]
  },
  {
   "cell_type": "code",
   "execution_count": 110,
   "id": "51ee720a",
   "metadata": {},
   "outputs": [
    {
     "name": "stdout",
     "output_type": "stream",
     "text": [
      "20.06179129485226\n",
      "25.568966278095708\n"
     ]
    }
   ],
   "source": [
    "dtr = DecisionTreeRegressor(criterion='friedman_mse', min_samples_split=7, splitter='random')\n",
    "dtr.fit(x_train,y_train)\n",
    "gbr.score(x_train,y_train)\n",
    "pred_dec = dtr.predict(x_test)\n",
    "\n",
    "dtsc = r2_score(y_test, pred_dec)\n",
    "print(dtsc*100)\n",
    "\n",
    "dtscore = cross_val_score(dtr,x,y,cv=5)\n",
    "dtc = dtscore.mean()\n",
    "print(dtc*100)"
   ]
  },
  {
   "cell_type": "code",
   "execution_count": null,
   "id": "6c9ef0ec",
   "metadata": {},
   "outputs": [],
   "source": [
    "When we look accross the various models, GradientBoostingRegressor has the least difference between accuray score and cross_val_score so we will save it as our bes models"
   ]
  },
  {
   "cell_type": "code",
   "execution_count": null,
   "id": "d8da39b7",
   "metadata": {},
   "outputs": [],
   "source": [
    "import pickle\n",
    "pickle.dump(abr, open('abr.pkl','wb'))"
   ]
  },
  {
   "cell_type": "code",
   "execution_count": null,
   "id": "f2a975ed",
   "metadata": {},
   "outputs": [],
   "source": []
  }
 ],
 "metadata": {
  "kernelspec": {
   "display_name": "Python 3",
   "language": "python",
   "name": "python3"
  },
  "language_info": {
   "codemirror_mode": {
    "name": "ipython",
    "version": 3
   },
   "file_extension": ".py",
   "mimetype": "text/x-python",
   "name": "python",
   "nbconvert_exporter": "python",
   "pygments_lexer": "ipython3",
   "version": "3.8.8"
  }
 },
 "nbformat": 4,
 "nbformat_minor": 5
}
